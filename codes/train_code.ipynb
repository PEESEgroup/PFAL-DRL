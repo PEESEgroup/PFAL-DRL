{
 "cells": [
  {
   "cell_type": "code",
   "execution_count": 1,
   "id": "9f3d50aa-57b4-4e2b-a9dc-c176922a33ea",
   "metadata": {},
   "outputs": [
    {
     "name": "stdout",
     "output_type": "stream",
     "text": [
      "Defaulting to user installation because normal site-packages is not writeable\n",
      "Requirement already satisfied: tianshou==0.4.11 in /home/benjamin/.local/lib/python3.8/site-packages (0.4.11)\n",
      "Requirement already satisfied: gymnasium in /home/benjamin/.local/lib/python3.8/site-packages (0.28.1)\n",
      "Requirement already satisfied: numpy in /home/benjamin/.local/lib/python3.8/site-packages (1.23.5)\n",
      "Collecting numpy\n",
      "  Using cached numpy-1.24.2-cp38-cp38-manylinux_2_17_x86_64.manylinux2014_x86_64.whl (17.3 MB)\n",
      "Requirement already satisfied: tqdm in /home/benjamin/.local/lib/python3.8/site-packages (from tianshou==0.4.11) (4.64.1)\n",
      "Requirement already satisfied: numba>=0.51.0 in /home/benjamin/.local/lib/python3.8/site-packages (from tianshou==0.4.11) (0.56.4)\n",
      "Requirement already satisfied: tensorboard>=2.5.0 in /opt/conda/envs/default/lib/python3.8/site-packages (from tianshou==0.4.11) (2.6.0)\n",
      "Requirement already satisfied: gym>=0.23.1 in /home/benjamin/.local/lib/python3.8/site-packages (from tianshou==0.4.11) (0.26.2)\n",
      "Requirement already satisfied: protobuf~=3.19.0 in /home/benjamin/.local/lib/python3.8/site-packages (from tianshou==0.4.11) (3.19.6)\n",
      "Requirement already satisfied: packaging in /opt/conda/envs/default/lib/python3.8/site-packages (from tianshou==0.4.11) (21.0)\n",
      "Requirement already satisfied: torch>=1.4.0 in /opt/conda/envs/default/lib/python3.8/site-packages (from tianshou==0.4.11) (1.9.0+cu111)\n",
      "Requirement already satisfied: h5py>=2.10.0 in /opt/conda/envs/default/lib/python3.8/site-packages (from tianshou==0.4.11) (3.1.0)\n",
      "Requirement already satisfied: gym-notices>=0.0.4 in /home/benjamin/.local/lib/python3.8/site-packages (from gym>=0.23.1->tianshou==0.4.11) (0.0.8)\n",
      "Requirement already satisfied: importlib-metadata>=4.8.0 in /home/benjamin/.local/lib/python3.8/site-packages (from gym>=0.23.1->tianshou==0.4.11) (6.0.0)\n",
      "Requirement already satisfied: cloudpickle>=1.2.0 in /home/benjamin/.local/lib/python3.8/site-packages (from gym>=0.23.1->tianshou==0.4.11) (2.2.1)\n",
      "Requirement already satisfied: zipp>=0.5 in /home/benjamin/.local/lib/python3.8/site-packages (from importlib-metadata>=4.8.0->gym>=0.23.1->tianshou==0.4.11) (3.14.0)\n",
      "Requirement already satisfied: setuptools in /opt/conda/envs/default/lib/python3.8/site-packages (from numba>=0.51.0->tianshou==0.4.11) (58.0.4)\n",
      "Requirement already satisfied: llvmlite<0.40,>=0.39.0dev0 in /home/benjamin/.local/lib/python3.8/site-packages (from numba>=0.51.0->tianshou==0.4.11) (0.39.1)\n",
      "Requirement already satisfied: google-auth<2,>=1.6.3 in /opt/conda/envs/default/lib/python3.8/site-packages (from tensorboard>=2.5.0->tianshou==0.4.11) (1.35.0)\n",
      "Requirement already satisfied: wheel>=0.26 in /opt/conda/envs/default/lib/python3.8/site-packages (from tensorboard>=2.5.0->tianshou==0.4.11) (0.37.0)\n",
      "Requirement already satisfied: google-auth-oauthlib<0.5,>=0.4.1 in /opt/conda/envs/default/lib/python3.8/site-packages (from tensorboard>=2.5.0->tianshou==0.4.11) (0.4.6)\n",
      "Requirement already satisfied: requests<3,>=2.21.0 in /opt/conda/envs/default/lib/python3.8/site-packages (from tensorboard>=2.5.0->tianshou==0.4.11) (2.26.0)\n",
      "Requirement already satisfied: absl-py>=0.4 in /opt/conda/envs/default/lib/python3.8/site-packages (from tensorboard>=2.5.0->tianshou==0.4.11) (0.13.0)\n",
      "Requirement already satisfied: werkzeug>=0.11.15 in /opt/conda/envs/default/lib/python3.8/site-packages (from tensorboard>=2.5.0->tianshou==0.4.11) (2.0.1)\n",
      "Requirement already satisfied: tensorboard-plugin-wit>=1.6.0 in /opt/conda/envs/default/lib/python3.8/site-packages (from tensorboard>=2.5.0->tianshou==0.4.11) (1.8.0)\n",
      "Requirement already satisfied: tensorboard-data-server<0.7.0,>=0.6.0 in /opt/conda/envs/default/lib/python3.8/site-packages (from tensorboard>=2.5.0->tianshou==0.4.11) (0.6.1)\n",
      "Requirement already satisfied: markdown>=2.6.8 in /opt/conda/envs/default/lib/python3.8/site-packages (from tensorboard>=2.5.0->tianshou==0.4.11) (3.3.4)\n",
      "Requirement already satisfied: grpcio>=1.24.3 in /opt/conda/envs/default/lib/python3.8/site-packages (from tensorboard>=2.5.0->tianshou==0.4.11) (1.40.0)\n",
      "Requirement already satisfied: six in /opt/conda/envs/default/lib/python3.8/site-packages (from absl-py>=0.4->tensorboard>=2.5.0->tianshou==0.4.11) (1.16.0)\n",
      "Requirement already satisfied: rsa<5,>=3.1.4 in /opt/conda/envs/default/lib/python3.8/site-packages (from google-auth<2,>=1.6.3->tensorboard>=2.5.0->tianshou==0.4.11) (4.7.2)\n",
      "Requirement already satisfied: cachetools<5.0,>=2.0.0 in /opt/conda/envs/default/lib/python3.8/site-packages (from google-auth<2,>=1.6.3->tensorboard>=2.5.0->tianshou==0.4.11) (4.2.2)\n",
      "Requirement already satisfied: pyasn1-modules>=0.2.1 in /opt/conda/envs/default/lib/python3.8/site-packages (from google-auth<2,>=1.6.3->tensorboard>=2.5.0->tianshou==0.4.11) (0.2.8)\n",
      "Requirement already satisfied: requests-oauthlib>=0.7.0 in /opt/conda/envs/default/lib/python3.8/site-packages (from google-auth-oauthlib<0.5,>=0.4.1->tensorboard>=2.5.0->tianshou==0.4.11) (1.3.0)\n",
      "Requirement already satisfied: pyasn1<0.5.0,>=0.4.6 in /opt/conda/envs/default/lib/python3.8/site-packages (from pyasn1-modules>=0.2.1->google-auth<2,>=1.6.3->tensorboard>=2.5.0->tianshou==0.4.11) (0.4.8)\n",
      "Requirement already satisfied: certifi>=2017.4.17 in /opt/conda/envs/default/lib/python3.8/site-packages (from requests<3,>=2.21.0->tensorboard>=2.5.0->tianshou==0.4.11) (2021.10.8)\n",
      "Requirement already satisfied: charset-normalizer~=2.0.0 in /opt/conda/envs/default/lib/python3.8/site-packages (from requests<3,>=2.21.0->tensorboard>=2.5.0->tianshou==0.4.11) (2.0.6)\n",
      "Requirement already satisfied: urllib3<1.27,>=1.21.1 in /opt/conda/envs/default/lib/python3.8/site-packages (from requests<3,>=2.21.0->tensorboard>=2.5.0->tianshou==0.4.11) (1.26.6)\n",
      "Requirement already satisfied: idna<4,>=2.5 in /opt/conda/envs/default/lib/python3.8/site-packages (from requests<3,>=2.21.0->tensorboard>=2.5.0->tianshou==0.4.11) (3.2)\n",
      "Requirement already satisfied: oauthlib>=3.0.0 in /opt/conda/envs/default/lib/python3.8/site-packages (from requests-oauthlib>=0.7.0->google-auth-oauthlib<0.5,>=0.4.1->tensorboard>=2.5.0->tianshou==0.4.11) (3.1.1)\n",
      "Requirement already satisfied: typing-extensions in /home/benjamin/.local/lib/python3.8/site-packages (from torch>=1.4.0->tianshou==0.4.11) (4.5.0)\n",
      "Requirement already satisfied: farama-notifications>=0.0.1 in /home/benjamin/.local/lib/python3.8/site-packages (from gymnasium) (0.0.4)\n",
      "Requirement already satisfied: jax-jumpy>=1.0.0 in /home/benjamin/.local/lib/python3.8/site-packages (from gymnasium) (1.0.0)\n",
      "Requirement already satisfied: pyparsing>=2.0.2 in /opt/conda/envs/default/lib/python3.8/site-packages (from packaging->tianshou==0.4.11) (3.0.6)\n"
     ]
    }
   ],
   "source": [
    "import sys\n",
    "!{sys.executable} -m pip install -U tianshou==0.4.11 gymnasium numpy"
   ]
  },
  {
   "cell_type": "code",
   "execution_count": 2,
   "id": "610e633e-c516-4989-8c65-6509409a73fd",
   "metadata": {},
   "outputs": [
    {
     "name": "stderr",
     "output_type": "stream",
     "text": [
      "/home/benjamin/.local/lib/python3.8/site-packages/tqdm/auto.py:22: TqdmWarning: IProgress not found. Please update jupyter and ipywidgets. See https://ipywidgets.readthedocs.io/en/stable/user_install.html\n",
      "  from .autonotebook import tqdm as notebook_tqdm\n",
      "/opt/conda/envs/default/lib/python3.8/site-packages/scipy/__init__.py:146: UserWarning: A NumPy version >=1.16.5 and <1.23.0 is required for this version of SciPy (detected version 1.23.5\n",
      "  warnings.warn(f\"A NumPy version >={np_minversion} and <{np_maxversion}\"\n"
     ]
    }
   ],
   "source": [
    "from drl_based_control import *"
   ]
  },
  {
   "cell_type": "code",
   "execution_count": null,
   "id": "e2833451-a9ee-4f6f-8c50-31e339eb7b95",
   "metadata": {
    "tags": []
   },
   "outputs": [
    {
     "name": "stdout",
     "output_type": "stream",
     "text": [
      "Loading agent under log/PFAL-v1/sac/19\n",
      "Successfully loaded policy.\n"
     ]
    },
    {
     "name": "stderr",
     "output_type": "stream",
     "text": [
      "/opt/conda/envs/default/lib/python3.8/site-packages/tensorflow/python/framework/dtypes.py:585: DeprecationWarning: `np.object` is a deprecated alias for the builtin `object`. To silence this warning, use `object` by itself. Doing this will not modify any behavior and is safe. \n",
      "Deprecated in NumPy 1.20; for more details and guidance: https://numpy.org/devdocs/release/1.20.0-notes.html#deprecations\n",
      "  np.object,\n",
      "/opt/conda/envs/default/lib/python3.8/site-packages/tensorflow/python/framework/dtypes.py:637: DeprecationWarning: `np.bool` is a deprecated alias for the builtin `bool`. To silence this warning, use `bool` by itself. Doing this will not modify any behavior and is safe. If you specifically wanted the numpy scalar type, use `np.bool_` here.\n",
      "Deprecated in NumPy 1.20; for more details and guidance: https://numpy.org/devdocs/release/1.20.0-notes.html#deprecations\n",
      "  np.bool,\n",
      "/opt/conda/envs/default/lib/python3.8/site-packages/tensorflow/python/framework/tensor_util.py:108: DeprecationWarning: `np.object` is a deprecated alias for the builtin `object`. To silence this warning, use `object` by itself. Doing this will not modify any behavior and is safe. \n",
      "Deprecated in NumPy 1.20; for more details and guidance: https://numpy.org/devdocs/release/1.20.0-notes.html#deprecations\n",
      "  np.object:\n",
      "/opt/conda/envs/default/lib/python3.8/site-packages/tensorflow/python/framework/tensor_util.py:110: DeprecationWarning: `np.bool` is a deprecated alias for the builtin `bool`. To silence this warning, use `bool` by itself. Doing this will not modify any behavior and is safe. If you specifically wanted the numpy scalar type, use `np.bool_` here.\n",
      "Deprecated in NumPy 1.20; for more details and guidance: https://numpy.org/devdocs/release/1.20.0-notes.html#deprecations\n",
      "  np.bool:\n",
      "/opt/conda/envs/default/lib/python3.8/site-packages/tensorflow/python/ops/numpy_ops/np_random.py:110: DeprecationWarning: `np.int` is a deprecated alias for the builtin `int`. To silence this warning, use `int` by itself. Doing this will not modify any behavior and is safe. When replacing `np.int`, you may wish to use e.g. `np.int64` or `np.int32` to specify the precision. If you wish to review your current use, check the release note link for additional information.\n",
      "Deprecated in NumPy 1.20; for more details and guidance: https://numpy.org/devdocs/release/1.20.0-notes.html#deprecations\n",
      "  def randint(low, high=None, size=None, dtype=onp.int):  # pylint: disable=missing-function-docstring\n",
      "Epoch #1: 4321it [01:55, 37.44it/s, alpha=0.657, env_step=4320, len=0, loss/actor=14.276, loss/alpha=-1.531, loss/critic1=65.719, loss/critic2=75.133, n/ep=0, n/st=1, rew=0.00]                            \n"
     ]
    },
    {
     "name": "stdout",
     "output_type": "stream",
     "text": [
      "Epoch #1: test_reward: -216.634044 ± 318.827689, best_reward: -21.577637 ± 34.049705 in #0\n"
     ]
    },
    {
     "name": "stderr",
     "output_type": "stream",
     "text": [
      "Epoch #2: 4321it [01:53, 37.92it/s, alpha=0.439, env_step=8640, len=4321, loss/actor=11.987, loss/alpha=-2.054, loss/critic1=37.924, loss/critic2=46.019, n/ep=0, n/st=1, rew=-3585.22]                          \n"
     ]
    },
    {
     "name": "stdout",
     "output_type": "stream",
     "text": [
      "Epoch #2: test_reward: -420.386678 ± 670.436787, best_reward: -21.577637 ± 34.049705 in #0\n"
     ]
    },
    {
     "name": "stderr",
     "output_type": "stream",
     "text": [
      "Epoch #3: 4321it [01:53, 38.01it/s, alpha=0.293, env_step=12960, len=4321, loss/actor=12.919, loss/alpha=-2.619, loss/critic1=26.873, loss/critic2=30.012, n/ep=0, n/st=1, rew=-1020.43]                          \n"
     ]
    },
    {
     "name": "stdout",
     "output_type": "stream",
     "text": [
      "Epoch #3: test_reward: -11676.545890 ± 42565.111164, best_reward: -21.577637 ± 34.049705 in #0\n"
     ]
    },
    {
     "name": "stderr",
     "output_type": "stream",
     "text": [
      "Epoch #4: 4321it [01:55, 37.46it/s, alpha=0.199, env_step=17280, len=4321, loss/actor=16.734, loss/alpha=-2.110, loss/critic1=20.844, loss/critic2=24.859, n/ep=0, n/st=1, rew=-578.59]                          \n"
     ]
    },
    {
     "name": "stdout",
     "output_type": "stream",
     "text": [
      "Epoch #4: test_reward: -759.461216 ± 1855.445807, best_reward: -21.577637 ± 34.049705 in #0\n"
     ]
    },
    {
     "name": "stderr",
     "output_type": "stream",
     "text": [
      "Epoch #5: 4321it [01:54, 37.62it/s, alpha=0.142, env_step=21600, len=4321, loss/actor=20.234, loss/alpha=-0.765, loss/critic1=16.253, loss/critic2=18.006, n/ep=0, n/st=1, rew=-1214.17]                          \n"
     ]
    },
    {
     "name": "stdout",
     "output_type": "stream",
     "text": [
      "Epoch #5: test_reward: -140.021512 ± 174.678448, best_reward: -21.577637 ± 34.049705 in #0\n"
     ]
    },
    {
     "name": "stderr",
     "output_type": "stream",
     "text": [
      "Epoch #6: 4321it [01:55, 37.57it/s, alpha=0.113, env_step=25920, len=4321, loss/actor=24.530, loss/alpha=-0.288, loss/critic1=10.918, loss/critic2=14.528, n/ep=0, n/st=1, rew=-816.04]                          \n"
     ]
    },
    {
     "name": "stdout",
     "output_type": "stream",
     "text": [
      "Epoch #6: test_reward: -218.010805 ± 486.791713, best_reward: -21.577637 ± 34.049705 in #0\n"
     ]
    },
    {
     "name": "stderr",
     "output_type": "stream",
     "text": [
      "Epoch #7: 4321it [01:53, 38.04it/s, alpha=0.102, env_step=30240, len=4321, loss/actor=27.114, loss/alpha=-0.263, loss/critic1=12.114, loss/critic2=13.060, n/ep=0, n/st=1, rew=-330.10]                          \n"
     ]
    },
    {
     "name": "stdout",
     "output_type": "stream",
     "text": [
      "Epoch #7: test_reward: -1515.389637 ± 5389.453241, best_reward: -21.577637 ± 34.049705 in #0\n"
     ]
    },
    {
     "name": "stderr",
     "output_type": "stream",
     "text": [
      "Epoch #8: 4321it [01:54, 37.75it/s, alpha=0.096, env_step=34560, len=4321, loss/actor=28.696, loss/alpha=-0.549, loss/critic1=9.465, loss/critic2=10.731, n/ep=0, n/st=1, rew=-124.57]                           \n"
     ]
    },
    {
     "name": "stdout",
     "output_type": "stream",
     "text": [
      "Epoch #8: test_reward: -132.413893 ± 126.873324, best_reward: -21.577637 ± 34.049705 in #0\n"
     ]
    },
    {
     "name": "stderr",
     "output_type": "stream",
     "text": [
      "Epoch #9: 4321it [01:50, 39.15it/s, alpha=0.087, env_step=38880, len=4321, loss/actor=29.401, loss/alpha=-0.221, loss/critic1=8.727, loss/critic2=8.735, n/ep=0, n/st=1, rew=-98.23]                            \n"
     ]
    },
    {
     "name": "stdout",
     "output_type": "stream",
     "text": [
      "Epoch #9: test_reward: -36178.912556 ± 103084.720936, best_reward: -21.577637 ± 34.049705 in #0\n"
     ]
    },
    {
     "name": "stderr",
     "output_type": "stream",
     "text": [
      "Epoch #10: 4321it [01:53, 38.01it/s, alpha=0.080, env_step=43200, len=4321, loss/actor=29.365, loss/alpha=0.286, loss/critic1=12.948, loss/critic2=12.967, n/ep=0, n/st=1, rew=-282.25]                           \n"
     ]
    },
    {
     "name": "stdout",
     "output_type": "stream",
     "text": [
      "Epoch #10: test_reward: -2951.152195 ± 11779.750385, best_reward: -21.577637 ± 34.049705 in #0\n"
     ]
    },
    {
     "name": "stderr",
     "output_type": "stream",
     "text": [
      "Epoch #11: 4321it [01:53, 38.14it/s, alpha=0.076, env_step=47520, len=4321, loss/actor=29.571, loss/alpha=-0.193, loss/critic1=14.369, loss/critic2=12.390, n/ep=0, n/st=1, rew=-75.03]                          \n"
     ]
    },
    {
     "name": "stdout",
     "output_type": "stream",
     "text": [
      "Epoch #11: test_reward: -4640.742873 ± 9509.354346, best_reward: -21.577637 ± 34.049705 in #0\n"
     ]
    },
    {
     "name": "stderr",
     "output_type": "stream",
     "text": [
      "Epoch #12: 4321it [01:51, 38.71it/s, alpha=0.072, env_step=51840, len=3815, loss/actor=31.070, loss/alpha=-0.092, loss/critic1=13.415, loss/critic2=13.946, n/ep=0, n/st=1, rew=-6147.60]                          \n"
     ]
    },
    {
     "name": "stdout",
     "output_type": "stream",
     "text": [
      "Epoch #12: test_reward: -155.426288 ± 172.194684, best_reward: -21.577637 ± 34.049705 in #0\n"
     ]
    },
    {
     "name": "stderr",
     "output_type": "stream",
     "text": [
      "Epoch #13: 4321it [01:54, 37.82it/s, alpha=0.070, env_step=56160, len=4321, loss/actor=31.094, loss/alpha=-0.012, loss/critic1=12.839, loss/critic2=15.721, n/ep=0, n/st=1, rew=-116.12]                           \n"
     ]
    },
    {
     "name": "stdout",
     "output_type": "stream",
     "text": [
      "Epoch #13: test_reward: -148.484661 ± 169.249527, best_reward: -21.577637 ± 34.049705 in #0\n"
     ]
    },
    {
     "name": "stderr",
     "output_type": "stream",
     "text": [
      "Epoch #14: 4321it [01:54, 37.61it/s, alpha=0.065, env_step=60480, len=4321, loss/actor=30.559, loss/alpha=0.039, loss/critic1=10.076, loss/critic2=10.813, n/ep=0, n/st=1, rew=-145.76]                           \n"
     ]
    },
    {
     "name": "stdout",
     "output_type": "stream",
     "text": [
      "Epoch #14: test_reward: -121.123602 ± 216.892922, best_reward: -21.577637 ± 34.049705 in #0\n"
     ]
    },
    {
     "name": "stderr",
     "output_type": "stream",
     "text": [
      "Epoch #15: 4321it [01:54, 37.85it/s, alpha=0.062, env_step=64800, len=4321, loss/actor=30.848, loss/alpha=-0.053, loss/critic1=7.857, loss/critic2=9.427, n/ep=0, n/st=1, rew=-77.27]                             \n"
     ]
    },
    {
     "name": "stdout",
     "output_type": "stream",
     "text": [
      "Epoch #15: test_reward: -580.419593 ± 1456.762179, best_reward: -21.577637 ± 34.049705 in #0\n"
     ]
    },
    {
     "name": "stderr",
     "output_type": "stream",
     "text": [
      "Epoch #16: 4321it [01:55, 37.32it/s, alpha=0.057, env_step=69120, len=4321, loss/actor=29.879, loss/alpha=0.136, loss/critic1=8.122, loss/critic2=10.557, n/ep=0, n/st=1, rew=-91.72]                            \n"
     ]
    },
    {
     "name": "stdout",
     "output_type": "stream",
     "text": [
      "Epoch #16: test_reward: -1250.982383 ± 2818.883231, best_reward: -21.577637 ± 34.049705 in #0\n"
     ]
    },
    {
     "name": "stderr",
     "output_type": "stream",
     "text": [
      "Epoch #17: 4321it [01:53, 37.91it/s, alpha=0.051, env_step=73440, len=4321, loss/actor=28.731, loss/alpha=-0.552, loss/critic1=6.977, loss/critic2=7.672, n/ep=0, n/st=1, rew=-498.56]                           \n"
     ]
    },
    {
     "name": "stdout",
     "output_type": "stream",
     "text": [
      "Epoch #17: test_reward: -75.108611 ± 62.551396, best_reward: -21.577637 ± 34.049705 in #0\n"
     ]
    },
    {
     "name": "stderr",
     "output_type": "stream",
     "text": [
      "Epoch #18: 4321it [01:54, 37.83it/s, alpha=0.051, env_step=77760, len=3633, loss/actor=28.729, loss/alpha=-0.188, loss/critic1=13.820, loss/critic2=9.464, n/ep=0, n/st=1, rew=-796.13]                           \n"
     ]
    },
    {
     "name": "stdout",
     "output_type": "stream",
     "text": [
      "Epoch #18: test_reward: -105.198178 ± 244.461362, best_reward: -21.577637 ± 34.049705 in #0\n"
     ]
    },
    {
     "name": "stderr",
     "output_type": "stream",
     "text": [
      "Epoch #19: 4321it [01:55, 37.53it/s, alpha=0.048, env_step=82080, len=4321, loss/actor=28.186, loss/alpha=-0.127, loss/critic1=7.074, loss/critic2=11.045, n/ep=0, n/st=1, rew=-106.03]                          \n"
     ]
    },
    {
     "name": "stdout",
     "output_type": "stream",
     "text": [
      "Epoch #19: test_reward: -70.280107 ± 30.546296, best_reward: -21.577637 ± 34.049705 in #0\n"
     ]
    },
    {
     "name": "stderr",
     "output_type": "stream",
     "text": [
      "Epoch #20: 4321it [01:54, 37.73it/s, alpha=0.047, env_step=86400, len=4321, loss/actor=27.694, loss/alpha=0.663, loss/critic1=7.991, loss/critic2=8.569, n/ep=0, n/st=1, rew=-82.67]                            \n"
     ]
    },
    {
     "name": "stdout",
     "output_type": "stream",
     "text": [
      "Epoch #20: test_reward: -49.872205 ± 32.682490, best_reward: -21.577637 ± 34.049705 in #0\n"
     ]
    },
    {
     "name": "stderr",
     "output_type": "stream",
     "text": [
      "Epoch #21: 4321it [01:54, 37.63it/s, alpha=0.044, env_step=90720, len=4321, loss/actor=26.825, loss/alpha=-0.054, loss/critic1=6.620, loss/critic2=6.580, n/ep=0, n/st=1, rew=-71.69]                           \n"
     ]
    },
    {
     "name": "stdout",
     "output_type": "stream",
     "text": [
      "Epoch #21: test_reward: -79.810646 ± 116.488374, best_reward: -21.577637 ± 34.049705 in #0\n"
     ]
    },
    {
     "name": "stderr",
     "output_type": "stream",
     "text": [
      "Epoch #22: 4321it [01:54, 37.59it/s, alpha=0.043, env_step=95040, len=4321, loss/actor=26.180, loss/alpha=-0.010, loss/critic1=6.307, loss/critic2=8.426, n/ep=0, n/st=1, rew=-62.90]                           \n"
     ]
    },
    {
     "name": "stdout",
     "output_type": "stream",
     "text": [
      "Epoch #22: test_reward: -73.496539 ± 94.784886, best_reward: -21.577637 ± 34.049705 in #0\n"
     ]
    },
    {
     "name": "stderr",
     "output_type": "stream",
     "text": [
      "Epoch #23: 4321it [01:53, 37.95it/s, alpha=0.041, env_step=99360, len=4321, loss/actor=25.440, loss/alpha=0.110, loss/critic1=3.957, loss/critic2=4.607, n/ep=0, n/st=1, rew=-51.76]                            \n"
     ]
    },
    {
     "name": "stdout",
     "output_type": "stream",
     "text": [
      "Epoch #23: test_reward: -55.023741 ± 50.387785, best_reward: -21.577637 ± 34.049705 in #0\n"
     ]
    },
    {
     "name": "stderr",
     "output_type": "stream",
     "text": [
      "Epoch #24: 4321it [01:53, 37.99it/s, alpha=0.037, env_step=103680, len=4321, loss/actor=24.541, loss/alpha=0.245, loss/critic1=5.776, loss/critic2=6.454, n/ep=0, n/st=1, rew=-96.84]                            \n"
     ]
    },
    {
     "name": "stdout",
     "output_type": "stream",
     "text": [
      "Epoch #24: test_reward: -89.565531 ± 78.430736, best_reward: -21.577637 ± 34.049705 in #0\n"
     ]
    },
    {
     "name": "stderr",
     "output_type": "stream",
     "text": [
      "Epoch #25: 4321it [01:56, 37.10it/s, alpha=0.035, env_step=108000, len=4321, loss/actor=23.541, loss/alpha=-0.392, loss/critic1=4.836, loss/critic2=5.314, n/ep=0, n/st=1, rew=-137.82]                           \n"
     ]
    },
    {
     "name": "stdout",
     "output_type": "stream",
     "text": [
      "Epoch #25: test_reward: -135.983494 ± 220.209861, best_reward: -21.577637 ± 34.049705 in #0\n"
     ]
    },
    {
     "name": "stderr",
     "output_type": "stream",
     "text": [
      "Epoch #26: 4321it [01:52, 38.42it/s, alpha=0.036, env_step=112320, len=4048, loss/actor=23.545, loss/alpha=-0.816, loss/critic1=3.989, loss/critic2=4.939, n/ep=0, n/st=1, rew=-84.85]                            \n"
     ]
    },
    {
     "name": "stdout",
     "output_type": "stream",
     "text": [
      "Epoch #26: test_reward: -47.233253 ± 17.582726, best_reward: -21.577637 ± 34.049705 in #0\n"
     ]
    },
    {
     "name": "stderr",
     "output_type": "stream",
     "text": [
      "Epoch #27: 4321it [01:54, 37.64it/s, alpha=0.033, env_step=116640, len=4321, loss/actor=22.698, loss/alpha=-0.190, loss/critic1=5.443, loss/critic2=4.473, n/ep=0, n/st=1, rew=-51.96]                           \n"
     ]
    },
    {
     "name": "stdout",
     "output_type": "stream",
     "text": [
      "Epoch #27: test_reward: -64.698629 ± 71.593214, best_reward: -21.577637 ± 34.049705 in #0\n"
     ]
    },
    {
     "name": "stderr",
     "output_type": "stream",
     "text": [
      "Epoch #28: 4321it [01:53, 37.92it/s, alpha=0.029, env_step=120960, len=4321, loss/actor=21.749, loss/alpha=-1.115, loss/critic1=5.264, loss/critic2=3.731, n/ep=0, n/st=1, rew=-56.20]                           \n"
     ]
    },
    {
     "name": "stdout",
     "output_type": "stream",
     "text": [
      "Epoch #28: test_reward: -100.725990 ± 199.848490, best_reward: -21.577637 ± 34.049705 in #0\n"
     ]
    },
    {
     "name": "stderr",
     "output_type": "stream",
     "text": [
      "Epoch #29: 4321it [01:53, 37.98it/s, alpha=0.027, env_step=125280, len=4321, loss/actor=21.219, loss/alpha=-0.638, loss/critic1=2.789, loss/critic2=3.829, n/ep=0, n/st=1, rew=-105.91]                            \n"
     ]
    },
    {
     "name": "stdout",
     "output_type": "stream",
     "text": [
      "Epoch #29: test_reward: -48.139930 ± 12.890927, best_reward: -21.577637 ± 34.049705 in #0\n"
     ]
    },
    {
     "name": "stderr",
     "output_type": "stream",
     "text": [
      "Epoch #30: 4321it [01:54, 37.86it/s, alpha=0.025, env_step=129600, len=4321, loss/actor=20.181, loss/alpha=-0.059, loss/critic1=4.012, loss/critic2=7.897, n/ep=0, n/st=1, rew=-55.93]                            \n"
     ]
    },
    {
     "name": "stdout",
     "output_type": "stream",
     "text": [
      "Epoch #30: test_reward: -43.519615 ± 22.236118, best_reward: -21.577637 ± 34.049705 in #0\n"
     ]
    },
    {
     "name": "stderr",
     "output_type": "stream",
     "text": [
      "Epoch #31: 4321it [01:56, 37.24it/s, alpha=0.024, env_step=133920, len=4321, loss/actor=19.181, loss/alpha=0.009, loss/critic1=4.162, loss/critic2=3.950, n/ep=0, n/st=1, rew=-77.33]                           \n"
     ]
    },
    {
     "name": "stdout",
     "output_type": "stream",
     "text": [
      "Epoch #31: test_reward: -129.452826 ± 167.298131, best_reward: -21.577637 ± 34.049705 in #0\n"
     ]
    },
    {
     "name": "stderr",
     "output_type": "stream",
     "text": [
      "Epoch #32: 4321it [01:52, 38.39it/s, alpha=0.023, env_step=138240, len=3691, loss/actor=18.765, loss/alpha=0.240, loss/critic1=2.366, loss/critic2=3.708, n/ep=0, n/st=1, rew=-64.29]                           \n"
     ]
    },
    {
     "name": "stdout",
     "output_type": "stream",
     "text": [
      "Epoch #32: test_reward: -161.271096 ± 324.359383, best_reward: -21.577637 ± 34.049705 in #0\n"
     ]
    },
    {
     "name": "stderr",
     "output_type": "stream",
     "text": [
      "Epoch #33: 4321it [01:52, 38.36it/s, alpha=0.021, env_step=142560, len=4321, loss/actor=17.832, loss/alpha=-0.121, loss/critic1=3.090, loss/critic2=4.532, n/ep=0, n/st=1, rew=-70.27]                          \n"
     ]
    },
    {
     "name": "stdout",
     "output_type": "stream",
     "text": [
      "Epoch #33: test_reward: -134.303281 ± 238.026506, best_reward: -21.577637 ± 34.049705 in #0\n"
     ]
    },
    {
     "name": "stderr",
     "output_type": "stream",
     "text": [
      "Epoch #34: 4321it [01:48, 39.65it/s, alpha=0.021, env_step=146880, len=4321, loss/actor=17.232, loss/alpha=-1.271, loss/critic1=6.162, loss/critic2=4.841, n/ep=0, n/st=1, rew=-81.70]                          \n"
     ]
    },
    {
     "name": "stdout",
     "output_type": "stream",
     "text": [
      "Epoch #34: test_reward: -52.315132 ± 29.301072, best_reward: -21.577637 ± 34.049705 in #0\n"
     ]
    },
    {
     "name": "stderr",
     "output_type": "stream",
     "text": [
      "Epoch #35: 4321it [01:51, 38.71it/s, alpha=0.019, env_step=151200, len=4321, loss/actor=16.760, loss/alpha=-0.695, loss/critic1=8.463, loss/critic2=9.609, n/ep=0, n/st=1, rew=-83.87]                           \n"
     ]
    },
    {
     "name": "stdout",
     "output_type": "stream",
     "text": [
      "Epoch #35: test_reward: -56.344894 ± 26.723767, best_reward: -21.577637 ± 34.049705 in #0\n"
     ]
    },
    {
     "name": "stderr",
     "output_type": "stream",
     "text": [
      "Epoch #36: 4321it [01:53, 38.14it/s, alpha=0.018, env_step=155520, len=4321, loss/actor=15.988, loss/alpha=-1.164, loss/critic1=2.843, loss/critic2=3.403, n/ep=0, n/st=1, rew=-57.62]                          \n"
     ]
    },
    {
     "name": "stdout",
     "output_type": "stream",
     "text": [
      "Epoch #36: test_reward: -50.854488 ± 34.282291, best_reward: -21.577637 ± 34.049705 in #0\n"
     ]
    },
    {
     "name": "stderr",
     "output_type": "stream",
     "text": [
      "Epoch #37: 4321it [01:55, 37.31it/s, alpha=0.018, env_step=159840, len=4321, loss/actor=15.687, loss/alpha=-0.160, loss/critic1=3.283, loss/critic2=7.194, n/ep=0, n/st=1, rew=-59.33]                          \n"
     ]
    },
    {
     "name": "stdout",
     "output_type": "stream",
     "text": [
      "Epoch #37: test_reward: -645.481280 ± 875.800406, best_reward: -21.577637 ± 34.049705 in #0\n"
     ]
    },
    {
     "name": "stderr",
     "output_type": "stream",
     "text": [
      "Epoch #38: 4321it [01:52, 38.51it/s, alpha=0.020, env_step=164160, len=4321, loss/actor=15.350, loss/alpha=-0.409, loss/critic1=2.834, loss/critic2=3.741, n/ep=0, n/st=1, rew=-775.85]                          \n"
     ]
    },
    {
     "name": "stdout",
     "output_type": "stream",
     "text": [
      "Epoch #38: test_reward: -50.871374 ± 15.077625, best_reward: -21.577637 ± 34.049705 in #0\n"
     ]
    },
    {
     "name": "stderr",
     "output_type": "stream",
     "text": [
      "Epoch #39: 4321it [01:55, 37.55it/s, alpha=0.019, env_step=168480, len=4321, loss/actor=15.024, loss/alpha=0.229, loss/critic1=2.627, loss/critic2=2.723, n/ep=0, n/st=1, rew=-53.64]                            \n"
     ]
    },
    {
     "name": "stdout",
     "output_type": "stream",
     "text": [
      "Epoch #39: test_reward: -43.367122 ± 18.740831, best_reward: -21.577637 ± 34.049705 in #0\n"
     ]
    },
    {
     "name": "stderr",
     "output_type": "stream",
     "text": [
      "Epoch #40: 4321it [01:53, 37.96it/s, alpha=0.019, env_step=172800, len=4321, loss/actor=14.776, loss/alpha=0.412, loss/critic1=4.007, loss/critic2=3.987, n/ep=0, n/st=1, rew=-52.61]                           \n"
     ]
    },
    {
     "name": "stdout",
     "output_type": "stream",
     "text": [
      "Epoch #40: test_reward: -53.744614 ± 5.591257, best_reward: -21.577637 ± 34.049705 in #0\n"
     ]
    },
    {
     "name": "stderr",
     "output_type": "stream",
     "text": [
      "Epoch #41: 4321it [01:56, 37.16it/s, alpha=0.019, env_step=177120, len=4321, loss/actor=14.440, loss/alpha=-0.357, loss/critic1=3.045, loss/critic2=3.985, n/ep=0, n/st=1, rew=-53.54]                            \n"
     ]
    },
    {
     "name": "stdout",
     "output_type": "stream",
     "text": [
      "Epoch #41: test_reward: -40.463207 ± 24.736894, best_reward: -21.577637 ± 34.049705 in #0\n"
     ]
    },
    {
     "name": "stderr",
     "output_type": "stream",
     "text": [
      "Epoch #42: 4321it [01:54, 37.89it/s, alpha=0.018, env_step=181440, len=4321, loss/actor=14.089, loss/alpha=0.545, loss/critic1=3.568, loss/critic2=4.000, n/ep=0, n/st=1, rew=-52.32]                           \n"
     ]
    },
    {
     "name": "stdout",
     "output_type": "stream",
     "text": [
      "Epoch #42: test_reward: -45.421351 ± 17.477721, best_reward: -21.577637 ± 34.049705 in #0\n"
     ]
    },
    {
     "name": "stderr",
     "output_type": "stream",
     "text": [
      "Epoch #43: 4321it [01:54, 37.59it/s, alpha=0.018, env_step=185760, len=4264, loss/actor=13.751, loss/alpha=0.829, loss/critic1=3.062, loss/critic2=4.101, n/ep=0, n/st=1, rew=-1.95]                            \n"
     ]
    },
    {
     "name": "stdout",
     "output_type": "stream",
     "text": [
      "Epoch #43: test_reward: -41.963060 ± 20.651071, best_reward: -21.577637 ± 34.049705 in #0\n"
     ]
    },
    {
     "name": "stderr",
     "output_type": "stream",
     "text": [
      "Epoch #44: 4321it [01:54, 37.74it/s, alpha=0.018, env_step=190080, len=4321, loss/actor=13.309, loss/alpha=-0.653, loss/critic1=2.027, loss/critic2=2.745, n/ep=0, n/st=1, rew=-56.61]                          \n"
     ]
    },
    {
     "name": "stdout",
     "output_type": "stream",
     "text": [
      "Epoch #44: test_reward: -45.618257 ± 18.421203, best_reward: -21.577637 ± 34.049705 in #0\n"
     ]
    },
    {
     "name": "stderr",
     "output_type": "stream",
     "text": [
      "Epoch #45: 4321it [01:53, 37.97it/s, alpha=0.018, env_step=194400, len=4321, loss/actor=13.290, loss/alpha=0.022, loss/critic1=2.181, loss/critic2=2.953, n/ep=0, n/st=1, rew=-54.62]                           \n"
     ]
    },
    {
     "name": "stdout",
     "output_type": "stream",
     "text": [
      "Epoch #45: test_reward: -53.774402 ± 11.481185, best_reward: -21.577637 ± 34.049705 in #0\n"
     ]
    },
    {
     "name": "stderr",
     "output_type": "stream",
     "text": [
      "Epoch #46: 4321it [01:54, 37.65it/s, alpha=0.018, env_step=198720, len=4321, loss/actor=13.084, loss/alpha=-0.332, loss/critic1=1.895, loss/critic2=2.114, n/ep=0, n/st=1, rew=-52.83]                          \n"
     ]
    },
    {
     "name": "stdout",
     "output_type": "stream",
     "text": [
      "Epoch #46: test_reward: -39.976178 ± 22.617751, best_reward: -21.577637 ± 34.049705 in #0\n"
     ]
    },
    {
     "name": "stderr",
     "output_type": "stream",
     "text": [
      "Epoch #47: 4321it [01:55, 37.40it/s, alpha=0.018, env_step=203040, len=4321, loss/actor=13.088, loss/alpha=0.858, loss/critic1=5.031, loss/critic2=8.062, n/ep=0, n/st=1, rew=-53.03]                           \n"
     ]
    },
    {
     "name": "stdout",
     "output_type": "stream",
     "text": [
      "Epoch #47: test_reward: -25.170262 ± 29.513503, best_reward: -21.577637 ± 34.049705 in #0\n"
     ]
    },
    {
     "name": "stderr",
     "output_type": "stream",
     "text": [
      "Epoch #48: 4321it [01:52, 38.48it/s, alpha=0.018, env_step=207360, len=4321, loss/actor=12.726, loss/alpha=0.203, loss/critic1=2.333, loss/critic2=3.369, n/ep=0, n/st=1, rew=-51.76]                           \n"
     ]
    },
    {
     "name": "stdout",
     "output_type": "stream",
     "text": [
      "Epoch #48: test_reward: -49.868537 ± 12.113688, best_reward: -21.577637 ± 34.049705 in #0\n"
     ]
    },
    {
     "name": "stderr",
     "output_type": "stream",
     "text": [
      "Epoch #49: 4321it [01:54, 37.88it/s, alpha=0.016, env_step=211680, len=4321, loss/actor=12.599, loss/alpha=-0.010, loss/critic1=4.092, loss/critic2=4.662, n/ep=0, n/st=1, rew=-68.51]                          \n"
     ]
    },
    {
     "name": "stdout",
     "output_type": "stream",
     "text": [
      "Epoch #49: test_reward: -51.497381 ± 1.775572, best_reward: -21.577637 ± 34.049705 in #0\n"
     ]
    },
    {
     "name": "stderr",
     "output_type": "stream",
     "text": [
      "Epoch #50: 4321it [01:53, 38.00it/s, alpha=0.017, env_step=216000, len=4321, loss/actor=12.532, loss/alpha=1.023, loss/critic1=1.783, loss/critic2=4.261, n/ep=0, n/st=1, rew=-62.00]                            \n",
      "Epoch #52: 4321it [01:55, 37.54it/s, alpha=0.017, env_step=224640, len=4321, loss/actor=12.145, loss/alpha=-1.106, loss/critic1=3.340, loss/critic2=4.905, n/ep=0, n/st=1, rew=-77.07]                          \n"
     ]
    },
    {
     "name": "stdout",
     "output_type": "stream",
     "text": [
      "Epoch #52: test_reward: -51.036883 ± 0.159961, best_reward: -21.577637 ± 34.049705 in #0\n"
     ]
    },
    {
     "name": "stderr",
     "output_type": "stream",
     "text": [
      "Epoch #53: 4321it [01:55, 37.39it/s, alpha=0.016, env_step=228960, len=4321, loss/actor=12.019, loss/alpha=0.275, loss/critic1=2.176, loss/critic2=2.133, n/ep=0, n/st=1, rew=-72.34]                           \n"
     ]
    },
    {
     "name": "stdout",
     "output_type": "stream",
     "text": [
      "Epoch #53: test_reward: -45.223050 ± 17.778528, best_reward: -21.577637 ± 34.049705 in #0\n"
     ]
    },
    {
     "name": "stderr",
     "output_type": "stream",
     "text": [
      "Epoch #54: 4321it [01:51, 38.90it/s, alpha=0.016, env_step=233280, len=4231, loss/actor=11.903, loss/alpha=-0.586, loss/critic1=1.699, loss/critic2=1.840, n/ep=0, n/st=1, rew=-3.88]                           \n"
     ]
    },
    {
     "name": "stdout",
     "output_type": "stream",
     "text": [
      "Epoch #54: test_reward: -45.148221 ± 29.696022, best_reward: -21.577637 ± 34.049705 in #0\n"
     ]
    },
    {
     "name": "stderr",
     "output_type": "stream",
     "text": [
      "Epoch #55: 4321it [01:54, 37.88it/s, alpha=0.015, env_step=237600, len=4321, loss/actor=11.559, loss/alpha=-0.544, loss/critic1=2.694, loss/critic2=3.296, n/ep=0, n/st=1, rew=-52.01]                          \n"
     ]
    },
    {
     "name": "stdout",
     "output_type": "stream",
     "text": [
      "Epoch #55: test_reward: -46.429304 ± 15.949739, best_reward: -21.577637 ± 34.049705 in #0\n"
     ]
    },
    {
     "name": "stderr",
     "output_type": "stream",
     "text": [
      "Epoch #56: 4321it [01:48, 39.67it/s, alpha=0.015, env_step=241920, len=4321, loss/actor=11.201, loss/alpha=1.093, loss/critic1=2.673, loss/critic2=2.901, n/ep=0, n/st=1, rew=-52.83]                            \n"
     ]
    },
    {
     "name": "stdout",
     "output_type": "stream",
     "text": [
      "Epoch #56: test_reward: -51.159058 ± 0.984612, best_reward: -21.577637 ± 34.049705 in #0\n"
     ]
    },
    {
     "name": "stderr",
     "output_type": "stream",
     "text": [
      "Epoch #57: 4321it [01:52, 38.43it/s, alpha=0.015, env_step=246240, len=4321, loss/actor=11.315, loss/alpha=-0.272, loss/critic1=2.348, loss/critic2=2.674, n/ep=0, n/st=1, rew=-57.34]                          \n"
     ]
    },
    {
     "name": "stdout",
     "output_type": "stream",
     "text": [
      "Epoch #57: test_reward: -52.768963 ± 4.822714, best_reward: -21.577637 ± 34.049705 in #0\n"
     ]
    },
    {
     "name": "stderr",
     "output_type": "stream",
     "text": [
      "Epoch #58: 4321it [01:51, 38.70it/s, alpha=0.015, env_step=250560, len=4321, loss/actor=11.253, loss/alpha=-0.878, loss/critic1=3.091, loss/critic2=4.026, n/ep=0, n/st=1, rew=-94.16]                           \n"
     ]
    },
    {
     "name": "stdout",
     "output_type": "stream",
     "text": [
      "Epoch #58: test_reward: -41.814093 ± 21.511686, best_reward: -21.577637 ± 34.049705 in #0\n"
     ]
    },
    {
     "name": "stderr",
     "output_type": "stream",
     "text": [
      "Epoch #59: 4321it [01:53, 37.94it/s, alpha=0.015, env_step=254880, len=4321, loss/actor=11.050, loss/alpha=-0.095, loss/critic1=3.884, loss/critic2=3.725, n/ep=0, n/st=1, rew=-51.66]                          \n"
     ]
    },
    {
     "name": "stdout",
     "output_type": "stream",
     "text": [
      "Epoch #59: test_reward: -63.355932 ± 65.536402, best_reward: -21.577637 ± 34.049705 in #0\n"
     ]
    },
    {
     "name": "stderr",
     "output_type": "stream",
     "text": [
      "Epoch #60: 4321it [01:54, 37.63it/s, alpha=0.015, env_step=259200, len=4113, loss/actor=10.845, loss/alpha=-0.759, loss/critic1=1.308, loss/critic2=2.011, n/ep=0, n/st=1, rew=-43.89]                          \n"
     ]
    },
    {
     "name": "stdout",
     "output_type": "stream",
     "text": [
      "Epoch #60: test_reward: -53.219475 ± 8.772260, best_reward: -21.577637 ± 34.049705 in #0\n"
     ]
    },
    {
     "name": "stderr",
     "output_type": "stream",
     "text": [
      "Epoch #61: 4321it [01:50, 39.17it/s, alpha=0.015, env_step=263520, len=4321, loss/actor=10.884, loss/alpha=0.870, loss/critic1=2.495, loss/critic2=2.384, n/ep=0, n/st=1, rew=-78.87]                           \n"
     ]
    },
    {
     "name": "stdout",
     "output_type": "stream",
     "text": [
      "Epoch #61: test_reward: -25.116195 ± 29.419290, best_reward: -21.577637 ± 34.049705 in #0\n"
     ]
    },
    {
     "name": "stderr",
     "output_type": "stream",
     "text": [
      "Epoch #62: 4321it [01:54, 37.72it/s, alpha=0.015, env_step=267840, len=4321, loss/actor=10.858, loss/alpha=-1.064, loss/critic1=1.820, loss/critic2=2.545, n/ep=0, n/st=1, rew=-51.10]                          \n"
     ]
    },
    {
     "name": "stdout",
     "output_type": "stream",
     "text": [
      "Epoch #62: test_reward: -51.237036 ± 0.761807, best_reward: -21.577637 ± 34.049705 in #0\n"
     ]
    },
    {
     "name": "stderr",
     "output_type": "stream",
     "text": [
      "Epoch #63: 4321it [01:49, 39.49it/s, alpha=0.015, env_step=272160, len=4321, loss/actor=10.838, loss/alpha=-0.668, loss/critic1=1.305, loss/critic2=1.607, n/ep=0, n/st=1, rew=-52.39]                            \n"
     ]
    },
    {
     "name": "stdout",
     "output_type": "stream",
     "text": [
      "Epoch #63: test_reward: -34.053234 ± 27.225762, best_reward: -21.577637 ± 34.049705 in #0\n"
     ]
    },
    {
     "name": "stderr",
     "output_type": "stream",
     "text": [
      "Epoch #64: 4321it [01:54, 37.74it/s, alpha=0.014, env_step=276480, len=4321, loss/actor=10.790, loss/alpha=-0.118, loss/critic1=1.772, loss/critic2=2.748, n/ep=0, n/st=1, rew=-53.62]                          \n"
     ]
    },
    {
     "name": "stdout",
     "output_type": "stream",
     "text": [
      "Epoch #64: test_reward: -44.130172 ± 21.396792, best_reward: -21.577637 ± 34.049705 in #0\n"
     ]
    },
    {
     "name": "stderr",
     "output_type": "stream",
     "text": [
      "Epoch #65: 4321it [01:55, 37.34it/s, alpha=0.013, env_step=280800, len=4321, loss/actor=10.821, loss/alpha=0.026, loss/critic1=6.656, loss/critic2=9.215, n/ep=0, n/st=1, rew=-51.96]                             \n"
     ]
    },
    {
     "name": "stdout",
     "output_type": "stream",
     "text": [
      "Epoch #65: test_reward: -68.033552 ± 53.993300, best_reward: -21.577637 ± 34.049705 in #0\n"
     ]
    },
    {
     "name": "stderr",
     "output_type": "stream",
     "text": [
      "Epoch #66: 4321it [01:53, 38.03it/s, alpha=0.013, env_step=285120, len=4321, loss/actor=10.359, loss/alpha=-0.474, loss/critic1=3.268, loss/critic2=2.581, n/ep=0, n/st=1, rew=-68.78]                          \n"
     ]
    },
    {
     "name": "stdout",
     "output_type": "stream",
     "text": [
      "Epoch #66: test_reward: -113.113534 ± 245.859309, best_reward: -21.577637 ± 34.049705 in #0\n"
     ]
    },
    {
     "name": "stderr",
     "output_type": "stream",
     "text": [
      "Epoch #67: 4321it [01:56, 37.12it/s, alpha=0.013, env_step=289440, len=4321, loss/actor=10.241, loss/alpha=-0.048, loss/critic1=5.205, loss/critic2=5.471, n/ep=0, n/st=1, rew=-74.95]                          \n"
     ]
    },
    {
     "name": "stdout",
     "output_type": "stream",
     "text": [
      "Epoch #67: test_reward: -48.964303 ± 37.878715, best_reward: -21.577637 ± 34.049705 in #0\n"
     ]
    },
    {
     "name": "stderr",
     "output_type": "stream",
     "text": [
      "Epoch #68: 4321it [01:52, 38.25it/s, alpha=0.012, env_step=293760, len=4321, loss/actor=9.952, loss/alpha=-0.306, loss/critic1=2.584, loss/critic2=2.654, n/ep=0, n/st=1, rew=-53.80]                             \n"
     ]
    },
    {
     "name": "stdout",
     "output_type": "stream",
     "text": [
      "Epoch #68: test_reward: -57.684247 ± 26.722336, best_reward: -21.577637 ± 34.049705 in #0\n"
     ]
    },
    {
     "name": "stderr",
     "output_type": "stream",
     "text": [
      "Epoch #69: 4321it [01:53, 38.09it/s, alpha=0.013, env_step=298080, len=4321, loss/actor=9.839, loss/alpha=-0.964, loss/critic1=2.681, loss/critic2=2.346, n/ep=0, n/st=1, rew=-51.38]                            \n"
     ]
    },
    {
     "name": "stdout",
     "output_type": "stream",
     "text": [
      "Epoch #69: test_reward: -116.514107 ± 187.148538, best_reward: -21.577637 ± 34.049705 in #0\n"
     ]
    },
    {
     "name": "stderr",
     "output_type": "stream",
     "text": [
      "Epoch #70: 4321it [01:53, 38.13it/s, alpha=0.013, env_step=302400, len=4321, loss/actor=9.715, loss/alpha=0.891, loss/critic1=1.546, loss/critic2=2.038, n/ep=0, n/st=1, rew=-64.15]                            \n"
     ]
    },
    {
     "name": "stdout",
     "output_type": "stream",
     "text": [
      "Epoch #70: test_reward: -70.681059 ± 84.341661, best_reward: -21.577637 ± 34.049705 in #0\n"
     ]
    },
    {
     "name": "stderr",
     "output_type": "stream",
     "text": [
      "Epoch #71: 4321it [01:55, 37.53it/s, alpha=0.012, env_step=306720, len=4321, loss/actor=9.515, loss/alpha=-0.594, loss/critic1=1.814, loss/critic2=2.906, n/ep=0, n/st=1, rew=-63.45]                            \n"
     ]
    },
    {
     "name": "stdout",
     "output_type": "stream",
     "text": [
      "Epoch #71: test_reward: -65.923665 ± 51.061170, best_reward: -21.577637 ± 34.049705 in #0\n"
     ]
    },
    {
     "name": "stderr",
     "output_type": "stream",
     "text": [
      "Epoch #72: 4321it [01:54, 37.87it/s, alpha=0.012, env_step=311040, len=4321, loss/actor=9.343, loss/alpha=1.076, loss/critic1=1.986, loss/critic2=2.147, n/ep=0, n/st=1, rew=-52.05]                           \n"
     ]
    },
    {
     "name": "stdout",
     "output_type": "stream",
     "text": [
      "Epoch #72: test_reward: -58.842079 ± 32.411998, best_reward: -21.577637 ± 34.049705 in #0\n"
     ]
    },
    {
     "name": "stderr",
     "output_type": "stream",
     "text": [
      "Epoch #73: 4321it [01:49, 39.37it/s, alpha=0.011, env_step=315360, len=4321, loss/actor=9.243, loss/alpha=0.654, loss/critic1=1.619, loss/critic2=2.790, n/ep=0, n/st=1, rew=-69.75]                           \n"
     ]
    },
    {
     "name": "stdout",
     "output_type": "stream",
     "text": [
      "Epoch #73: test_reward: -62.340170 ± 26.849809, best_reward: -21.577637 ± 34.049705 in #0\n"
     ]
    },
    {
     "name": "stderr",
     "output_type": "stream",
     "text": [
      "Epoch #74: 4321it [01:54, 37.62it/s, alpha=0.011, env_step=319680, len=4321, loss/actor=9.231, loss/alpha=-0.766, loss/critic1=1.155, loss/critic2=1.186, n/ep=0, n/st=1, rew=-437.93]                          \n"
     ]
    },
    {
     "name": "stdout",
     "output_type": "stream",
     "text": [
      "Epoch #74: test_reward: -86.331162 ± 149.670015, best_reward: -21.577637 ± 34.049705 in #0\n"
     ]
    },
    {
     "name": "stderr",
     "output_type": "stream",
     "text": [
      "Epoch #75: 4321it [01:53, 38.04it/s, alpha=0.010, env_step=324000, len=4321, loss/actor=9.144, loss/alpha=0.271, loss/critic1=2.895, loss/critic2=2.855, n/ep=0, n/st=1, rew=-65.95]                              \n"
     ]
    },
    {
     "name": "stdout",
     "output_type": "stream",
     "text": [
      "Epoch #75: test_reward: -339.424138 ± 724.262468, best_reward: -21.577637 ± 34.049705 in #0\n"
     ]
    },
    {
     "name": "stderr",
     "output_type": "stream",
     "text": [
      "Epoch #76: 4321it [01:53, 38.24it/s, alpha=0.009, env_step=328320, len=4321, loss/actor=8.985, loss/alpha=-0.136, loss/critic1=2.260, loss/critic2=1.731, n/ep=0, n/st=1, rew=-63.03]                           \n"
     ]
    },
    {
     "name": "stdout",
     "output_type": "stream",
     "text": [
      "Epoch #76: test_reward: -27.558555 ± 29.682441, best_reward: -21.577637 ± 34.049705 in #0\n"
     ]
    },
    {
     "name": "stderr",
     "output_type": "stream",
     "text": [
      "Epoch #77: 4321it [01:53, 37.96it/s, alpha=0.009, env_step=332640, len=4321, loss/actor=8.707, loss/alpha=-1.169, loss/critic1=2.329, loss/critic2=2.971, n/ep=0, n/st=1, rew=-78.78]                           \n"
     ]
    },
    {
     "name": "stdout",
     "output_type": "stream",
     "text": [
      "Epoch #77: test_reward: -50.237580 ± 13.320947, best_reward: -21.577637 ± 34.049705 in #0\n"
     ]
    },
    {
     "name": "stderr",
     "output_type": "stream",
     "text": [
      "Epoch #78: 4321it [01:51, 38.63it/s, alpha=0.009, env_step=336960, len=4321, loss/actor=8.548, loss/alpha=0.205, loss/critic1=2.311, loss/critic2=3.096, n/ep=0, n/st=1, rew=-64.07]                           \n"
     ]
    },
    {
     "name": "stdout",
     "output_type": "stream",
     "text": [
      "Epoch #78: test_reward: -129.434186 ± 302.883820, best_reward: -21.577637 ± 34.049705 in #0\n"
     ]
    },
    {
     "name": "stderr",
     "output_type": "stream",
     "text": [
      "Epoch #79: 4321it [01:55, 37.53it/s, alpha=0.008, env_step=341280, len=4321, loss/actor=8.409, loss/alpha=-1.351, loss/critic1=1.835, loss/critic2=2.174, n/ep=0, n/st=1, rew=-69.16]                          \n"
     ]
    },
    {
     "name": "stdout",
     "output_type": "stream",
     "text": [
      "Epoch #79: test_reward: -63.675020 ± 49.330703, best_reward: -21.577637 ± 34.049705 in #0\n"
     ]
    },
    {
     "name": "stderr",
     "output_type": "stream",
     "text": [
      "Epoch #80: 4321it [01:53, 38.13it/s, alpha=0.008, env_step=345600, len=4321, loss/actor=8.288, loss/alpha=2.526, loss/critic1=1.497, loss/critic2=1.799, n/ep=0, n/st=1, rew=-74.70]                            \n"
     ]
    },
    {
     "name": "stdout",
     "output_type": "stream",
     "text": [
      "Epoch #80: test_reward: -52.180089 ± 16.168998, best_reward: -21.577637 ± 34.049705 in #0\n"
     ]
    },
    {
     "name": "stderr",
     "output_type": "stream",
     "text": [
      "Epoch #81: 4321it [01:53, 37.91it/s, alpha=0.008, env_step=349920, len=4321, loss/actor=8.204, loss/alpha=2.112, loss/critic1=2.264, loss/critic2=1.612, n/ep=0, n/st=1, rew=-55.34]                           \n"
     ]
    },
    {
     "name": "stdout",
     "output_type": "stream",
     "text": [
      "Epoch #81: test_reward: -78.499820 ± 52.725888, best_reward: -21.577637 ± 34.049705 in #0\n"
     ]
    },
    {
     "name": "stderr",
     "output_type": "stream",
     "text": [
      "Epoch #82: 4321it [01:54, 37.62it/s, alpha=0.008, env_step=354240, len=4321, loss/actor=8.023, loss/alpha=0.924, loss/critic1=2.311, loss/critic2=2.460, n/ep=0, n/st=1, rew=-90.43]                           \n"
     ]
    },
    {
     "name": "stdout",
     "output_type": "stream",
     "text": [
      "Epoch #82: test_reward: -45.853141 ± 16.865868, best_reward: -21.577637 ± 34.049705 in #0\n"
     ]
    },
    {
     "name": "stderr",
     "output_type": "stream",
     "text": [
      "Epoch #83: 4321it [01:53, 38.13it/s, alpha=0.008, env_step=358560, len=4321, loss/actor=7.876, loss/alpha=0.272, loss/critic1=1.588, loss/critic2=2.005, n/ep=0, n/st=1, rew=-52.26]                           \n"
     ]
    },
    {
     "name": "stdout",
     "output_type": "stream",
     "text": [
      "Epoch #83: test_reward: -52.974849 ± 8.319371, best_reward: -21.577637 ± 34.049705 in #0\n"
     ]
    },
    {
     "name": "stderr",
     "output_type": "stream",
     "text": [
      "Epoch #84: 4321it [01:52, 38.39it/s, alpha=0.008, env_step=362880, len=4321, loss/actor=7.961, loss/alpha=0.085, loss/critic1=1.854, loss/critic2=2.901, n/ep=0, n/st=1, rew=-92.22]                           \n"
     ]
    },
    {
     "name": "stdout",
     "output_type": "stream",
     "text": [
      "Epoch #84: test_reward: -110.332887 ± 224.737423, best_reward: -21.577637 ± 34.049705 in #0\n"
     ]
    },
    {
     "name": "stderr",
     "output_type": "stream",
     "text": [
      "Epoch #85: 4321it [01:53, 38.08it/s, alpha=0.008, env_step=367200, len=4321, loss/actor=7.772, loss/alpha=1.793, loss/critic1=1.698, loss/critic2=3.368, n/ep=0, n/st=1, rew=-61.64]                             \n"
     ]
    },
    {
     "name": "stdout",
     "output_type": "stream",
     "text": [
      "Epoch #85: test_reward: -55.705324 ± 7.245895, best_reward: -21.577637 ± 34.049705 in #0\n"
     ]
    },
    {
     "name": "stderr",
     "output_type": "stream",
     "text": [
      "Epoch #86: 4321it [01:54, 37.60it/s, alpha=0.007, env_step=371520, len=4321, loss/actor=7.540, loss/alpha=-0.503, loss/critic1=2.753, loss/critic2=4.026, n/ep=0, n/st=1, rew=-65.87]                            \n"
     ]
    },
    {
     "name": "stdout",
     "output_type": "stream",
     "text": [
      "Epoch #86: test_reward: -51.249080 ± 0.404797, best_reward: -21.577637 ± 34.049705 in #0\n"
     ]
    },
    {
     "name": "stderr",
     "output_type": "stream",
     "text": [
      "Epoch #87: 4321it [01:54, 37.86it/s, alpha=0.007, env_step=375840, len=4321, loss/actor=7.483, loss/alpha=1.572, loss/critic1=2.288, loss/critic2=2.317, n/ep=0, n/st=1, rew=-52.02]                             \n"
     ]
    },
    {
     "name": "stdout",
     "output_type": "stream",
     "text": [
      "Epoch #87: test_reward: -53.520780 ± 3.090190, best_reward: -21.577637 ± 34.049705 in #0\n"
     ]
    },
    {
     "name": "stderr",
     "output_type": "stream",
     "text": [
      "Epoch #88: 4321it [01:52, 38.30it/s, alpha=0.006, env_step=380160, len=4321, loss/actor=7.321, loss/alpha=-0.205, loss/critic1=1.888, loss/critic2=3.075, n/ep=0, n/st=1, rew=-76.11]                          \n"
     ]
    },
    {
     "name": "stdout",
     "output_type": "stream",
     "text": [
      "Epoch #88: test_reward: -55.770013 ± 15.421586, best_reward: -21.577637 ± 34.049705 in #0\n"
     ]
    },
    {
     "name": "stderr",
     "output_type": "stream",
     "text": [
      "Epoch #89: 4321it [01:52, 38.54it/s, alpha=0.007, env_step=384480, len=4321, loss/actor=7.113, loss/alpha=0.522, loss/critic1=1.437, loss/critic2=2.437, n/ep=0, n/st=1, rew=-54.41]                           \n"
     ]
    },
    {
     "name": "stdout",
     "output_type": "stream",
     "text": [
      "Epoch #89: test_reward: -56.161205 ± 10.241255, best_reward: -21.577637 ± 34.049705 in #0\n"
     ]
    },
    {
     "name": "stderr",
     "output_type": "stream",
     "text": [
      "Epoch #90: 4321it [01:54, 37.69it/s, alpha=0.006, env_step=388800, len=4321, loss/actor=6.953, loss/alpha=1.782, loss/critic1=1.804, loss/critic2=2.195, n/ep=0, n/st=1, rew=-56.29]                           \n"
     ]
    },
    {
     "name": "stdout",
     "output_type": "stream",
     "text": [
      "Epoch #90: test_reward: -65.640457 ± 35.721823, best_reward: -21.577637 ± 34.049705 in #0\n"
     ]
    },
    {
     "name": "stderr",
     "output_type": "stream",
     "text": [
      "Epoch #91: 4321it [01:55, 37.55it/s, alpha=0.006, env_step=393120, len=4321, loss/actor=6.723, loss/alpha=-1.271, loss/critic1=1.596, loss/critic2=1.841, n/ep=0, n/st=1, rew=-53.33]                          \n"
     ]
    },
    {
     "name": "stdout",
     "output_type": "stream",
     "text": [
      "Epoch #91: test_reward: -59.151981 ± 20.832219, best_reward: -21.577637 ± 34.049705 in #0\n"
     ]
    },
    {
     "name": "stderr",
     "output_type": "stream",
     "text": [
      "Epoch #92: 4321it [01:55, 37.39it/s, alpha=0.006, env_step=397440, len=4321, loss/actor=6.651, loss/alpha=-0.733, loss/critic1=1.692, loss/critic2=3.325, n/ep=0, n/st=1, rew=-67.59]                          \n"
     ]
    },
    {
     "name": "stdout",
     "output_type": "stream",
     "text": [
      "Epoch #92: test_reward: -254.009060 ± 471.890077, best_reward: -21.577637 ± 34.049705 in #0\n"
     ]
    },
    {
     "name": "stderr",
     "output_type": "stream",
     "text": [
      "Epoch #93: 4321it [01:55, 37.34it/s, alpha=0.005, env_step=401760, len=4321, loss/actor=6.493, loss/alpha=-1.744, loss/critic1=0.804, loss/critic2=1.156, n/ep=0, n/st=1, rew=-154.16]                           \n"
     ]
    },
    {
     "name": "stdout",
     "output_type": "stream",
     "text": [
      "Epoch #93: test_reward: -52.981635 ± 15.310472, best_reward: -21.577637 ± 34.049705 in #0\n"
     ]
    },
    {
     "name": "stderr",
     "output_type": "stream",
     "text": [
      "Epoch #97: 4321it [01:51, 38.66it/s, alpha=0.006, env_step=419040, len=4321, loss/actor=6.189, loss/alpha=-2.319, loss/critic1=1.487, loss/critic2=1.604, n/ep=0, n/st=1, rew=-56.63]                           \n"
     ]
    },
    {
     "name": "stdout",
     "output_type": "stream",
     "text": [
      "Epoch #97: test_reward: -108.145820 ± 127.074595, best_reward: -21.577637 ± 34.049705 in #0\n"
     ]
    },
    {
     "name": "stderr",
     "output_type": "stream",
     "text": [
      "Epoch #98: 4321it [01:53, 38.07it/s, alpha=0.006, env_step=423360, len=4232, loss/actor=6.078, loss/alpha=-1.737, loss/critic1=1.004, loss/critic2=1.157, n/ep=0, n/st=1, rew=-111.91]                          \n"
     ]
    },
    {
     "name": "stdout",
     "output_type": "stream",
     "text": [
      "Epoch #98: test_reward: -92.141000 ± 57.360876, best_reward: -21.577637 ± 34.049705 in #0\n"
     ]
    },
    {
     "name": "stderr",
     "output_type": "stream",
     "text": [
      "Epoch #99: 4321it [01:55, 37.43it/s, alpha=0.006, env_step=427680, len=4321, loss/actor=5.992, loss/alpha=-0.878, loss/critic1=1.386, loss/critic2=1.299, n/ep=0, n/st=1, rew=-51.87]                           \n"
     ]
    },
    {
     "name": "stdout",
     "output_type": "stream",
     "text": [
      "Epoch #99: test_reward: -59.216945 ± 81.050083, best_reward: -21.577637 ± 34.049705 in #0\n"
     ]
    },
    {
     "name": "stderr",
     "output_type": "stream",
     "text": [
      "Epoch #102: 4321it [01:52, 38.52it/s, alpha=0.006, env_step=440640, len=4321, loss/actor=6.143, loss/alpha=-0.221, loss/critic1=1.495, loss/critic2=1.425, n/ep=0, n/st=1, rew=-73.92]                            \n",
      "Epoch #103: 4321it [01:53, 38.06it/s, alpha=0.006, env_step=444960, len=4321, loss/actor=6.249, loss/alpha=0.681, loss/critic1=1.208, loss/critic2=1.898, n/ep=0, n/st=1, rew=-127.33]                           \n"
     ]
    },
    {
     "name": "stdout",
     "output_type": "stream",
     "text": [
      "Epoch #103: test_reward: -55.500366 ± 23.552535, best_reward: -21.577637 ± 34.049705 in #0\n"
     ]
    },
    {
     "name": "stderr",
     "output_type": "stream",
     "text": [
      "Epoch #104: 4321it [01:53, 38.17it/s, alpha=0.006, env_step=449280, len=4321, loss/actor=6.281, loss/alpha=-0.082, loss/critic1=1.650, loss/critic2=1.370, n/ep=0, n/st=1, rew=-53.83]                           \n"
     ]
    },
    {
     "name": "stdout",
     "output_type": "stream",
     "text": [
      "Epoch #104: test_reward: -84.674039 ± 102.041361, best_reward: -21.577637 ± 34.049705 in #0\n"
     ]
    },
    {
     "name": "stderr",
     "output_type": "stream",
     "text": [
      "Epoch #105: 4321it [01:51, 38.68it/s, alpha=0.006, env_step=453600, len=4321, loss/actor=6.323, loss/alpha=6.253, loss/critic1=7.503, loss/critic2=9.097, n/ep=0, n/st=1, rew=-67.64]                            \n"
     ]
    },
    {
     "name": "stdout",
     "output_type": "stream",
     "text": [
      "Epoch #105: test_reward: -151.340821 ± 231.843892, best_reward: -21.577637 ± 34.049705 in #0\n"
     ]
    },
    {
     "name": "stderr",
     "output_type": "stream",
     "text": [
      "Epoch #108: 4321it [01:54, 37.69it/s, alpha=0.006, env_step=466560, len=4321, loss/actor=6.330, loss/alpha=2.905, loss/critic1=7.229, loss/critic2=6.166, n/ep=0, n/st=1, rew=-656.30]                           \n",
      "Epoch #109: 4321it [01:50, 38.97it/s, alpha=0.006, env_step=470880, len=4321, loss/actor=6.655, loss/alpha=-0.964, loss/critic1=19.603, loss/critic2=21.639, n/ep=0, n/st=1, rew=-51.92]                          \n",
      "Epoch #110: 4321it [01:47, 40.16it/s, alpha=0.006, env_step=475200, len=4321, loss/actor=6.190, loss/alpha=1.620, loss/critic1=1.496, loss/critic2=1.854, n/ep=0, n/st=1, rew=-272.76]                           \n"
     ]
    },
    {
     "name": "stdout",
     "output_type": "stream",
     "text": [
      "Epoch #110: test_reward: -66.744042 ± 22.773886, best_reward: -21.577637 ± 34.049705 in #0\n"
     ]
    },
    {
     "name": "stderr",
     "output_type": "stream",
     "text": [
      "Epoch #111: 4321it [01:54, 37.79it/s, alpha=0.007, env_step=479520, len=4321, loss/actor=6.234, loss/alpha=0.952, loss/critic1=3.093, loss/critic2=4.682, n/ep=0, n/st=1, rew=-56.94]                            \n"
     ]
    },
    {
     "name": "stdout",
     "output_type": "stream",
     "text": [
      "Epoch #112: test_reward: -61.325696 ± 22.964082, best_reward: -21.577637 ± 34.049705 in #0\n"
     ]
    },
    {
     "name": "stderr",
     "output_type": "stream",
     "text": [
      "Epoch #113: 4321it [01:53, 38.11it/s, alpha=0.006, env_step=488160, len=4321, loss/actor=6.213, loss/alpha=-0.622, loss/critic1=2.278, loss/critic2=1.199, n/ep=0, n/st=1, rew=-54.66]                          \n"
     ]
    },
    {
     "name": "stdout",
     "output_type": "stream",
     "text": [
      "Epoch #114: test_reward: -71.288872 ± 26.227036, best_reward: -21.577637 ± 34.049705 in #0\n"
     ]
    },
    {
     "name": "stderr",
     "output_type": "stream",
     "text": [
      "Epoch #115: 4321it [01:55, 37.46it/s, alpha=0.006, env_step=496800, len=4321, loss/actor=6.201, loss/alpha=1.037, loss/critic1=0.925, loss/critic2=1.684, n/ep=0, n/st=1, rew=-54.15]                            \n"
     ]
    },
    {
     "name": "stdout",
     "output_type": "stream",
     "text": [
      "Epoch #116: test_reward: -51.173298 ± 15.160607, best_reward: -21.577637 ± 34.049705 in #0\n"
     ]
    },
    {
     "name": "stderr",
     "output_type": "stream",
     "text": [
      "Epoch #117: 4321it [01:53, 37.98it/s, alpha=0.006, env_step=505440, len=4321, loss/actor=6.145, loss/alpha=2.289, loss/critic1=3.755, loss/critic2=3.144, n/ep=0, n/st=1, rew=-55.08]                           \n"
     ]
    },
    {
     "name": "stdout",
     "output_type": "stream",
     "text": [
      "Epoch #118: test_reward: -241.865531 ± 774.812109, best_reward: -21.577637 ± 34.049705 in #0\n"
     ]
    },
    {
     "name": "stderr",
     "output_type": "stream",
     "text": [
      "Epoch #119:  90%|######### | 3892/4320 [01:42<00:13, 31.44it/s, alpha=0.007, env_step=513652, len=4321, loss/actor=6.176, loss/alpha=-0.670, loss/critic1=1.101, loss/critic2=1.140, n/ep=0, n/st=1, rew=-79.41]"
     ]
    },
    {
     "name": "stdout",
     "output_type": "stream",
     "text": [
      "Epoch #120: test_reward: -209.773135 ± 562.087833, best_reward: -21.577637 ± 34.049705 in #0\n"
     ]
    },
    {
     "name": "stderr",
     "output_type": "stream",
     "text": [
      "Epoch #121: 4321it [01:53, 38.08it/s, alpha=0.006, env_step=522720, len=4321, loss/actor=6.265, loss/alpha=0.748, loss/critic1=0.930, loss/critic2=1.192, n/ep=0, n/st=1, rew=-73.08]                             \n"
     ]
    },
    {
     "name": "stdout",
     "output_type": "stream",
     "text": [
      "Epoch #121: test_reward: -74.479865 ± 73.555863, best_reward: -21.577637 ± 34.049705 in #0\n"
     ]
    },
    {
     "name": "stderr",
     "output_type": "stream",
     "text": [
      "Epoch #122:  17%|#7        | 753/4320 [00:18<01:51, 31.93it/s, alpha=0.006, env_step=523473, len=4321, loss/actor=6.215, loss/alpha=-1.329, loss/critic1=1.223, loss/critic2=0.928, n/ep=0, n/st=1, rew=-73.08]"
     ]
    },
    {
     "name": "stdout",
     "output_type": "stream",
     "text": [
      "Epoch #122: test_reward: -249.252114 ± 351.638294, best_reward: -21.577637 ± 34.049705 in #0\n"
     ]
    },
    {
     "name": "stderr",
     "output_type": "stream",
     "text": [
      "Epoch #123:  93%|#########2| 4013/4320 [01:45<00:09, 33.60it/s, alpha=0.006, env_step=531053, len=4321, loss/actor=6.248, loss/alpha=-1.717, loss/critic1=1.604, loss/critic2=2.483, n/ep=0, n/st=1, rew=-69.37]"
     ]
    },
    {
     "name": "stdout",
     "output_type": "stream",
     "text": [
      "Epoch #124: test_reward: -88.874125 ± 89.302164, best_reward: -21.577637 ± 34.049705 in #0\n"
     ]
    },
    {
     "name": "stderr",
     "output_type": "stream",
     "text": [
      "Epoch #125: 4321it [01:48, 39.97it/s, alpha=0.006, env_step=540000, len=4069, loss/actor=6.161, loss/alpha=3.013, loss/critic1=1.334, loss/critic2=1.136, n/ep=0, n/st=1, rew=-92.86]                            \n"
     ]
    },
    {
     "name": "stdout",
     "output_type": "stream",
     "text": [
      "Epoch #126: test_reward: -54.682596 ± 5.532826, best_reward: -21.577637 ± 34.049705 in #0\n"
     ]
    },
    {
     "name": "stderr",
     "output_type": "stream",
     "text": [
      "Epoch #127: 4321it [01:52, 38.31it/s, alpha=0.007, env_step=548640, len=4321, loss/actor=6.179, loss/alpha=-1.481, loss/critic1=2.005, loss/critic2=2.921, n/ep=0, n/st=1, rew=-70.17]                           \n"
     ]
    },
    {
     "name": "stdout",
     "output_type": "stream",
     "text": [
      "Epoch #128: test_reward: -41.171954 ± 20.408432, best_reward: -21.577637 ± 34.049705 in #0\n"
     ]
    },
    {
     "name": "stderr",
     "output_type": "stream",
     "text": [
      "Epoch #129: 4321it [01:56, 37.20it/s, alpha=0.006, env_step=557280, len=4321, loss/actor=6.229, loss/alpha=-1.348, loss/critic1=0.738, loss/critic2=1.647, n/ep=0, n/st=1, rew=-66.53]                           \n"
     ]
    },
    {
     "name": "stdout",
     "output_type": "stream",
     "text": [
      "Epoch #130: test_reward: -55.319966 ± 7.734069, best_reward: -21.577637 ± 34.049705 in #0\n"
     ]
    },
    {
     "name": "stderr",
     "output_type": "stream",
     "text": [
      "Epoch #131: 4321it [01:47, 40.14it/s, alpha=0.006, env_step=565920, len=4321, loss/actor=6.226, loss/alpha=1.393, loss/critic1=1.146, loss/critic2=1.475, n/ep=0, n/st=1, rew=-59.82]                           \n"
     ]
    },
    {
     "name": "stdout",
     "output_type": "stream",
     "text": [
      "Epoch #132: test_reward: -42.923680 ± 17.786529, best_reward: -21.577637 ± 34.049705 in #0\n"
     ]
    },
    {
     "name": "stderr",
     "output_type": "stream",
     "text": [
      "Epoch #133:  92%|#########2| 3987/4320 [01:46<00:08, 39.32it/s, alpha=0.006, env_step=574227, len=4321, loss/actor=6.029, loss/alpha=-2.078, loss/critic1=1.302, loss/critic2=1.527, n/ep=0, n/st=1, rew=-64.97]"
     ]
    },
    {
     "name": "stdout",
     "output_type": "stream",
     "text": [
      "Epoch #134: test_reward: -48.392096 ± 19.758695, best_reward: -21.577637 ± 34.049705 in #0\n"
     ]
    },
    {
     "name": "stderr",
     "output_type": "stream",
     "text": [
      "Epoch #135:  86%|########6 | 3736/4320 [01:41<00:16, 36.09it/s, alpha=0.006, env_step=582616, len=4052, loss/actor=5.897, loss/alpha=0.187, loss/critic1=1.475, loss/critic2=1.501, n/ep=0, n/st=1, rew=-59.41] "
     ]
    },
    {
     "name": "stdout",
     "output_type": "stream",
     "text": [
      "Epoch #136: test_reward: -79.903401 ± 54.304556, best_reward: -21.577637 ± 34.049705 in #0\n"
     ]
    },
    {
     "name": "stderr",
     "output_type": "stream",
     "text": [
      "Epoch #137:  91%|######### | 3928/4320 [01:45<00:09, 39.65it/s, alpha=0.005, env_step=591448, len=4321, loss/actor=5.778, loss/alpha=0.649, loss/critic1=7.292, loss/critic2=6.984, n/ep=0, n/st=1, rew=-65.83]   "
     ]
    },
    {
     "name": "stdout",
     "output_type": "stream",
     "text": [
      "Epoch #138: test_reward: -43.931861 ± 37.284570, best_reward: -21.577637 ± 34.049705 in #0\n"
     ]
    },
    {
     "name": "stderr",
     "output_type": "stream",
     "text": [
      "Epoch #139: 4321it [01:52, 38.29it/s, alpha=0.005, env_step=600480, len=4321, loss/actor=5.736, loss/alpha=0.311, loss/critic1=0.929, loss/critic2=1.091, n/ep=0, n/st=1, rew=-62.25]                           \n"
     ]
    },
    {
     "name": "stdout",
     "output_type": "stream",
     "text": [
      "Epoch #140: test_reward: -48.304425 ± 16.195188, best_reward: -21.577637 ± 34.049705 in #0\n"
     ]
    },
    {
     "name": "stderr",
     "output_type": "stream",
     "text": [
      "Epoch #141:  94%|#########3| 4052/4320 [01:47<00:06, 41.24it/s, alpha=0.005, env_step=608852, len=4321, loss/actor=5.675, loss/alpha=0.185, loss/critic1=1.844, loss/critic2=2.247, n/ep=0, n/st=1, rew=-51.96] "
     ]
    },
    {
     "name": "stdout",
     "output_type": "stream",
     "text": [
      "Epoch #142: test_reward: -50.503540 ± 9.582790, best_reward: -21.577637 ± 34.049705 in #0\n"
     ]
    },
    {
     "name": "stderr",
     "output_type": "stream",
     "text": [
      "Epoch #143: 4321it [01:54, 37.60it/s, alpha=0.007, env_step=617760, len=4321, loss/actor=5.951, loss/alpha=-1.003, loss/critic1=1.622, loss/critic2=1.912, n/ep=0, n/st=1, rew=-82.41]                          \n"
     ]
    },
    {
     "name": "stdout",
     "output_type": "stream",
     "text": [
      "Epoch #144: test_reward: -86.461349 ± 90.383286, best_reward: -21.577637 ± 34.049705 in #0\n"
     ]
    },
    {
     "name": "stderr",
     "output_type": "stream",
     "text": [
      "Epoch #145: 4321it [01:54, 37.66it/s, alpha=0.006, env_step=626400, len=4321, loss/actor=6.153, loss/alpha=2.028, loss/critic1=1.324, loss/critic2=0.938, n/ep=0, n/st=1, rew=-104.04]                           \n"
     ]
    },
    {
     "name": "stdout",
     "output_type": "stream",
     "text": [
      "Epoch #146: test_reward: -54.074033 ± 5.632360, best_reward: -21.577637 ± 34.049705 in #0\n"
     ]
    },
    {
     "name": "stderr",
     "output_type": "stream",
     "text": [
      "Epoch #147: 4321it [01:53, 37.97it/s, alpha=0.006, env_step=635040, len=4321, loss/actor=5.992, loss/alpha=-0.866, loss/critic1=0.906, loss/critic2=1.372, n/ep=0, n/st=1, rew=-80.41]                          \n"
     ]
    },
    {
     "name": "stdout",
     "output_type": "stream",
     "text": [
      "Epoch #148: test_reward: -56.814002 ± 18.449821, best_reward: -21.577637 ± 34.049705 in #0\n"
     ]
    },
    {
     "name": "stderr",
     "output_type": "stream",
     "text": [
      "Epoch #149: 4321it [01:53, 38.10it/s, alpha=0.009, env_step=643680, len=4321, loss/actor=6.761, loss/alpha=-0.936, loss/critic1=1.121, loss/critic2=2.024, n/ep=0, n/st=1, rew=-63.39]                          \n"
     ]
    },
    {
     "name": "stdout",
     "output_type": "stream",
     "text": [
      "Epoch #150: test_reward: -67.024546 ± 20.997367, best_reward: -21.577637 ± 34.049705 in #0\n"
     ]
    },
    {
     "name": "stderr",
     "output_type": "stream",
     "text": [
      "Epoch #151: 4321it [01:53, 38.18it/s, alpha=0.006, env_step=652320, len=4321, loss/actor=6.550, loss/alpha=3.385, loss/critic1=1.236, loss/critic2=1.741, n/ep=0, n/st=1, rew=-74.25]                           \n"
     ]
    },
    {
     "name": "stdout",
     "output_type": "stream",
     "text": [
      "Epoch #152: test_reward: -46.076866 ± 17.568648, best_reward: -21.577637 ± 34.049705 in #0\n"
     ]
    },
    {
     "name": "stderr",
     "output_type": "stream",
     "text": [
      "Epoch #153: 4321it [01:55, 37.48it/s, alpha=0.006, env_step=660960, len=4321, loss/actor=6.283, loss/alpha=-0.133, loss/critic1=1.129, loss/critic2=1.957, n/ep=0, n/st=1, rew=-56.21]                          \n"
     ]
    },
    {
     "name": "stdout",
     "output_type": "stream",
     "text": [
      "Epoch #154: test_reward: -60.155509 ± 19.560545, best_reward: -21.577637 ± 34.049705 in #0\n"
     ]
    },
    {
     "name": "stderr",
     "output_type": "stream",
     "text": [
      "Epoch #155: 4321it [01:54, 37.75it/s, alpha=0.005, env_step=669600, len=4321, loss/actor=6.007, loss/alpha=-1.070, loss/critic1=0.956, loss/critic2=1.264, n/ep=0, n/st=1, rew=-69.89]                          \n"
     ]
    },
    {
     "name": "stdout",
     "output_type": "stream",
     "text": [
      "Epoch #156: test_reward: -72.153066 ± 36.129137, best_reward: -21.577637 ± 34.049705 in #0\n"
     ]
    },
    {
     "name": "stderr",
     "output_type": "stream",
     "text": [
      "Epoch #157:  75%|#######5  | 3240/4320 [01:25<00:28, 37.87it/s, alpha=0.005, env_step=677160, len=4321, loss/actor=5.916, loss/alpha=-0.484, loss/critic1=0.995, loss/critic2=1.762, n/ep=0, n/st=1, rew=-56.20]"
     ]
    },
    {
     "name": "stdout",
     "output_type": "stream",
     "text": [
      "Epoch #158: test_reward: -65.368391 ± 12.336121, best_reward: -21.577637 ± 34.049705 in #0\n"
     ]
    },
    {
     "name": "stderr",
     "output_type": "stream",
     "text": [
      "Epoch #159: 4321it [01:54, 37.83it/s, alpha=0.005, env_step=686880, len=4321, loss/actor=5.649, loss/alpha=0.313, loss/critic1=1.625, loss/critic2=1.640, n/ep=0, n/st=1, rew=-62.64]                           \n",
      "Epoch #161:  92%|#########2| 3987/4320 [01:42<00:07, 42.31it/s, alpha=0.005, env_step=695187, len=4321, loss/actor=5.569, loss/alpha=-1.578, loss/critic1=1.153, loss/critic2=1.017, n/ep=0, n/st=1, rew=-55.91]"
     ]
    },
    {
     "name": "stdout",
     "output_type": "stream",
     "text": [
      "Epoch #162: test_reward: -112.371854 ± 234.654957, best_reward: -21.577637 ± 34.049705 in #0\n"
     ]
    },
    {
     "name": "stderr",
     "output_type": "stream",
     "text": [
      "Epoch #163: 4321it [01:54, 37.74it/s, alpha=0.005, env_step=704160, len=4321, loss/actor=5.416, loss/alpha=-2.409, loss/critic1=0.831, loss/critic2=1.120, n/ep=0, n/st=1, rew=-62.66]                           \n",
      "Epoch #165:  94%|#########3| 4055/4320 [01:46<00:07, 34.63it/s, alpha=0.004, env_step=712535, len=3974, loss/actor=5.402, loss/alpha=-1.166, loss/critic1=0.978, loss/critic2=1.261, n/ep=0, n/st=1, rew=-22.29]"
     ]
    },
    {
     "name": "stdout",
     "output_type": "stream",
     "text": [
      "Epoch #166: test_reward: -230.440836 ± 737.736711, best_reward: -21.577637 ± 34.049705 in #0\n"
     ]
    },
    {
     "name": "stderr",
     "output_type": "stream",
     "text": [
      "Epoch #167: 4321it [01:52, 38.27it/s, alpha=0.004, env_step=721440, len=4321, loss/actor=5.236, loss/alpha=0.659, loss/critic1=0.788, loss/critic2=1.403, n/ep=0, n/st=1, rew=-57.47]                           \n",
      "Epoch #169: 4321it [01:53, 38.00it/s, alpha=0.004, env_step=730080, len=4321, loss/actor=4.997, loss/alpha=-1.301, loss/critic1=1.965, loss/critic2=1.998, n/ep=0, n/st=1, rew=-109.09]                            \n"
     ]
    },
    {
     "name": "stdout",
     "output_type": "stream",
     "text": [
      "Epoch #170: test_reward: -45.027375 ± 23.385337, best_reward: -21.577637 ± 34.049705 in #0\n"
     ]
    },
    {
     "name": "stderr",
     "output_type": "stream",
     "text": [
      "Epoch #171:  84%|########4 | 3647/4320 [01:33<00:15, 42.61it/s, alpha=0.004, env_step=738047, len=4321, loss/actor=4.991, loss/alpha=1.304, loss/critic1=1.204, loss/critic2=1.491, n/ep=0, n/st=1, rew=-56.73]  "
     ]
    },
    {
     "name": "stdout",
     "output_type": "stream",
     "text": [
      "Epoch #172: test_reward: -319.743457 ± 700.415705, best_reward: -21.577637 ± 34.049705 in #0\n"
     ]
    },
    {
     "name": "stderr",
     "output_type": "stream",
     "text": [
      "Epoch #173: 4321it [01:53, 37.93it/s, alpha=0.004, env_step=747360, len=4321, loss/actor=5.037, loss/alpha=-0.068, loss/critic1=1.260, loss/critic2=1.564, n/ep=0, n/st=1, rew=-57.64]                          \n",
      "Epoch #175: 4321it [01:53, 37.95it/s, alpha=0.004, env_step=756000, len=3903, loss/actor=4.858, loss/alpha=-0.461, loss/critic1=0.681, loss/critic2=1.271, n/ep=0, n/st=1, rew=-34.41]                            \n"
     ]
    },
    {
     "name": "stdout",
     "output_type": "stream",
     "text": [
      "Epoch #176: test_reward: -26.503715 ± 27.498009, best_reward: -21.577637 ± 34.049705 in #0\n"
     ]
    },
    {
     "name": "stderr",
     "output_type": "stream",
     "text": [
      "Epoch #177: 4321it [01:53, 38.09it/s, alpha=0.004, env_step=764640, len=4321, loss/actor=4.917, loss/alpha=-1.292, loss/critic1=1.559, loss/critic2=2.714, n/ep=0, n/st=1, rew=-53.03]                          \n",
      "Epoch #179: 4321it [01:55, 37.48it/s, alpha=0.004, env_step=773280, len=4321, loss/actor=4.667, loss/alpha=-0.753, loss/critic1=0.839, loss/critic2=1.186, n/ep=0, n/st=1, rew=-66.26]                          \n",
      "Epoch #180: 4321it [01:53, 37.93it/s, alpha=0.003, env_step=777600, len=4321, loss/actor=4.567, loss/alpha=1.335, loss/critic1=1.055, loss/critic2=1.150, n/ep=0, n/st=1, rew=-63.02]                           \n",
      "Epoch #181: 4321it [01:54, 37.75it/s, alpha=0.004, env_step=781920, len=4321, loss/actor=4.446, loss/alpha=-0.766, loss/critic1=0.836, loss/critic2=1.970, n/ep=0, n/st=1, rew=-61.59]                          \n"
     ]
    },
    {
     "name": "stdout",
     "output_type": "stream",
     "text": [
      "Epoch #182: test_reward: -255.689952 ± 682.877181, best_reward: -21.577637 ± 34.049705 in #0\n"
     ]
    },
    {
     "name": "stderr",
     "output_type": "stream",
     "text": [
      "Epoch #183: 4321it [01:51, 38.89it/s, alpha=0.003, env_step=790560, len=4321, loss/actor=4.449, loss/alpha=-1.439, loss/critic1=0.741, loss/critic2=1.066, n/ep=0, n/st=1, rew=-107.35]                          \n",
      "Epoch #185: 4321it [01:51, 38.62it/s, alpha=0.003, env_step=799200, len=4321, loss/actor=4.300, loss/alpha=-0.518, loss/critic1=1.566, loss/critic2=1.243, n/ep=0, n/st=1, rew=-106.15]                          \n",
      "Epoch #186:  96%|#########6| 4148/4320 [01:51<00:04, 41.23it/s, alpha=0.003, env_step=803348, len=4321, loss/actor=4.367, loss/alpha=-0.862, loss/critic1=1.159, loss/critic2=1.304, n/ep=0, n/st=1, rew=-93.25]"
     ]
    },
    {
     "name": "stdout",
     "output_type": "stream",
     "text": [
      "Epoch #187: test_reward: -91.100568 ± 68.184897, best_reward: -21.577637 ± 34.049705 in #0\n"
     ]
    },
    {
     "name": "stderr",
     "output_type": "stream",
     "text": [
      "Epoch #188: 4321it [01:52, 38.41it/s, alpha=0.004, env_step=812160, len=4321, loss/actor=4.301, loss/alpha=1.750, loss/critic1=0.868, loss/critic2=0.921, n/ep=0, n/st=1, rew=-77.56]                           \n",
      "Epoch #190: 4321it [01:52, 38.32it/s, alpha=0.003, env_step=820800, len=4321, loss/actor=4.417, loss/alpha=-1.023, loss/critic1=1.044, loss/critic2=1.262, n/ep=0, n/st=1, rew=-167.93]                          \n"
     ]
    },
    {
     "name": "stdout",
     "output_type": "stream",
     "text": [
      "Epoch #190: test_reward: -45.364243 ± 23.800300, best_reward: -21.577637 ± 34.049705 in #0\n"
     ]
    },
    {
     "name": "stderr",
     "output_type": "stream",
     "text": [
      "Epoch #191: 4321it [01:54, 37.62it/s, alpha=0.003, env_step=825120, len=4225, loss/actor=4.300, loss/alpha=5.394, loss/critic1=1.089, loss/critic2=1.034, n/ep=0, n/st=1, rew=-25.90]                           \n",
      "Epoch #193: 4321it [01:53, 37.91it/s, alpha=0.003, env_step=833760, len=4321, loss/actor=4.125, loss/alpha=1.119, loss/critic1=1.557, loss/critic2=1.703, n/ep=0, n/st=1, rew=-154.95]                           \n"
     ]
    },
    {
     "name": "stdout",
     "output_type": "stream",
     "text": [
      "Epoch #193: test_reward: -605.210740 ± 281.855921, best_reward: -21.577637 ± 34.049705 in #0\n"
     ]
    },
    {
     "name": "stderr",
     "output_type": "stream",
     "text": [
      "Epoch #194: 4321it [01:55, 37.43it/s, alpha=0.004, env_step=838080, len=4321, loss/actor=4.261, loss/alpha=0.783, loss/critic1=4.040, loss/critic2=4.154, n/ep=0, n/st=1, rew=-92.50]                           \n"
     ]
    },
    {
     "name": "stdout",
     "output_type": "stream",
     "text": [
      "Epoch #196: test_reward: -49.946556 ± 11.420239, best_reward: -21.577637 ± 34.049705 in #0\n"
     ]
    },
    {
     "name": "stderr",
     "output_type": "stream",
     "text": [
      "Epoch #197: 4321it [01:57, 36.92it/s, alpha=0.003, env_step=851040, len=4321, loss/actor=4.074, loss/alpha=1.100, loss/critic1=1.657, loss/critic2=2.225, n/ep=0, n/st=1, rew=-58.79]                           \n"
     ]
    },
    {
     "name": "stdout",
     "output_type": "stream",
     "text": [
      "Epoch #199: test_reward: -115.024215 ± 207.064376, best_reward: -21.577637 ± 34.049705 in #0\n"
     ]
    },
    {
     "name": "stderr",
     "output_type": "stream",
     "text": [
      "Epoch #200:  82%|########2 | 3547/4320 [01:34<00:19, 39.85it/s, alpha=0.006, env_step=863227, len=4321, loss/actor=5.465, loss/alpha=15.278, loss/critic1=1.921, loss/critic2=2.193, n/ep=0, n/st=1, rew=-272.09]"
     ]
    },
    {
     "name": "stdout",
     "output_type": "stream",
     "text": [
      "Epoch #201: test_reward: -68.656960 ± 18.274343, best_reward: -21.577637 ± 34.049705 in #0\n"
     ]
    },
    {
     "name": "stderr",
     "output_type": "stream",
     "text": [
      "Epoch #202:  71%|#######1  | 3071/4320 [01:20<00:32, 38.09it/s, alpha=0.009, env_step=871391, len=4321, loss/actor=6.193, loss/alpha=-1.667, loss/critic1=3.012, loss/critic2=4.293, n/ep=0, n/st=1, rew=-91.52]"
     ]
    },
    {
     "name": "stdout",
     "output_type": "stream",
     "text": [
      "Epoch #203: test_reward: -79.195155 ± 75.986757, best_reward: -21.577637 ± 34.049705 in #0\n"
     ]
    },
    {
     "name": "stderr",
     "output_type": "stream",
     "text": [
      "Epoch #206:  79%|#######8  | 3408/4320 [01:33<00:25, 35.30it/s, alpha=0.005, env_step=889007, len=4321, loss/actor=5.884, loss/alpha=0.664, loss/critic1=1.117, loss/critic2=1.649, n/ep=0, n/st=1, rew=-78.81] "
     ]
    },
    {
     "name": "stdout",
     "output_type": "stream",
     "text": [
      "Epoch #207: test_reward: -53.118466 ± 68.815408, best_reward: -21.577637 ± 34.049705 in #0\n"
     ]
    },
    {
     "name": "stderr",
     "output_type": "stream",
     "text": [
      "Epoch #208: 4321it [01:53, 37.91it/s, alpha=0.004, env_step=898560, len=4321, loss/actor=5.426, loss/alpha=-0.800, loss/critic1=1.185, loss/critic2=1.513, n/ep=0, n/st=1, rew=-61.92]                          \n"
     ]
    },
    {
     "name": "stdout",
     "output_type": "stream",
     "text": [
      "Epoch #210: test_reward: -61.261941 ± 13.818334, best_reward: -21.577637 ± 34.049705 in #0\n"
     ]
    },
    {
     "name": "stderr",
     "output_type": "stream",
     "text": [
      "Epoch #217: 4321it [01:51, 38.68it/s, alpha=0.004, env_step=937440, len=4321, loss/actor=5.057, loss/alpha=-0.862, loss/critic1=1.523, loss/critic2=1.491, n/ep=0, n/st=1, rew=-64.95]                          \n"
     ]
    },
    {
     "name": "stdout",
     "output_type": "stream",
     "text": [
      "Epoch #218: test_reward: -42.882160 ± 27.472248, best_reward: -21.577637 ± 34.049705 in #0\n"
     ]
    },
    {
     "name": "stderr",
     "output_type": "stream",
     "text": [
      "Epoch #219: 4321it [01:52, 38.33it/s, alpha=0.006, env_step=946080, len=4221, loss/actor=5.228, loss/alpha=0.358, loss/critic1=0.751, loss/critic2=1.334, n/ep=0, n/st=1, rew=-130.66]                           \n"
     ]
    },
    {
     "name": "stdout",
     "output_type": "stream",
     "text": [
      "Epoch #221: test_reward: -171.724630 ± 175.027264, best_reward: -21.577637 ± 34.049705 in #0\n"
     ]
    },
    {
     "name": "stderr",
     "output_type": "stream",
     "text": [
      "Epoch #222: 4321it [01:54, 37.67it/s, alpha=0.007, env_step=959040, len=4321, loss/actor=5.348, loss/alpha=3.755, loss/critic1=1.703, loss/critic2=1.362, n/ep=0, n/st=1, rew=-133.56]                            \n"
     ]
    },
    {
     "name": "stdout",
     "output_type": "stream",
     "text": [
      "Epoch #224: test_reward: -59.087502 ± 38.365662, best_reward: -21.577637 ± 34.049705 in #0\n"
     ]
    },
    {
     "name": "stderr",
     "output_type": "stream",
     "text": [
      "Epoch #225: 4321it [01:54, 37.74it/s, alpha=0.007, env_step=972000, len=4321, loss/actor=5.664, loss/alpha=-0.478, loss/critic1=3.994, loss/critic2=4.254, n/ep=0, n/st=1, rew=-130.75]                          \n"
     ]
    },
    {
     "name": "stdout",
     "output_type": "stream",
     "text": [
      "Epoch #227: test_reward: -53.648944 ± 54.650812, best_reward: -21.577637 ± 34.049705 in #0\n"
     ]
    },
    {
     "name": "stderr",
     "output_type": "stream",
     "text": [
      "Epoch #228: 4321it [01:53, 38.04it/s, alpha=0.005, env_step=984960, len=4321, loss/actor=5.148, loss/alpha=-1.697, loss/critic1=1.645, loss/critic2=2.409, n/ep=0, n/st=1, rew=-124.12]                          \n"
     ]
    },
    {
     "name": "stdout",
     "output_type": "stream",
     "text": [
      "Epoch #230: test_reward: -398.189430 ± 239.073744, best_reward: -21.577637 ± 34.049705 in #0\n"
     ]
    },
    {
     "name": "stderr",
     "output_type": "stream",
     "text": [
      "Epoch #231: 4321it [01:52, 38.32it/s, alpha=0.004, env_step=997920, len=4321, loss/actor=4.681, loss/alpha=1.663, loss/critic1=1.895, loss/critic2=1.486, n/ep=0, n/st=1, rew=-71.07]                           \n"
     ]
    },
    {
     "name": "stdout",
     "output_type": "stream",
     "text": [
      "Epoch #233: test_reward: -81.368541 ± 38.063303, best_reward: -21.577637 ± 34.049705 in #0\n"
     ]
    },
    {
     "name": "stderr",
     "output_type": "stream",
     "text": [
      "Epoch #234: 4321it [01:53, 38.13it/s, alpha=0.003, env_step=1010880, len=4321, loss/actor=4.348, loss/alpha=-1.089, loss/critic1=0.747, loss/critic2=0.872, n/ep=0, n/st=1, rew=-174.57]                          \n"
     ]
    },
    {
     "name": "stdout",
     "output_type": "stream",
     "text": [
      "Epoch #236: test_reward: -45.686934 ± 45.276445, best_reward: -21.577637 ± 34.049705 in #0\n"
     ]
    },
    {
     "name": "stderr",
     "output_type": "stream",
     "text": [
      "Epoch #237:  90%|######### | 3907/4320 [01:42<00:08, 47.63it/s, alpha=0.003, env_step=1023427, len=4321, loss/actor=4.101, loss/alpha=-0.933, loss/critic1=0.933, loss/critic2=0.908, n/ep=0, n/st=1, rew=-125.12]"
     ]
    },
    {
     "name": "stdout",
     "output_type": "stream",
     "text": [
      "Epoch #239: test_reward: -238.523613 ± 206.835993, best_reward: -21.577637 ± 34.049705 in #0\n"
     ]
    },
    {
     "name": "stderr",
     "output_type": "stream",
     "text": [
      "Epoch #240:  93%|#########2| 4001/4320 [01:45<00:08, 37.77it/s, alpha=0.003, env_step=1036481, len=4321, loss/actor=3.972, loss/alpha=-1.900, loss/critic1=1.027, loss/critic2=1.004, n/ep=0, n/st=1, rew=-55.24] "
     ]
    },
    {
     "name": "stdout",
     "output_type": "stream",
     "text": [
      "Epoch #242: test_reward: -39.583530 ± 30.611887, best_reward: -21.577637 ± 34.049705 in #0\n"
     ]
    },
    {
     "name": "stderr",
     "output_type": "stream",
     "text": [
      "Epoch #245: 4321it [01:51, 38.80it/s, alpha=0.004, env_step=1058400, len=4321, loss/actor=4.459, loss/alpha=0.956, loss/critic1=0.953, loss/critic2=1.379, n/ep=0, n/st=1, rew=-62.37]                            \n"
     ]
    },
    {
     "name": "stdout",
     "output_type": "stream",
     "text": [
      "Epoch #246: test_reward: -70.585494 ± 49.406068, best_reward: -21.577637 ± 34.049705 in #0\n"
     ]
    },
    {
     "name": "stderr",
     "output_type": "stream",
     "text": [
      "Epoch #247: 4321it [01:54, 37.75it/s, alpha=0.003, env_step=1067040, len=4321, loss/actor=4.181, loss/alpha=-2.667, loss/critic1=0.943, loss/critic2=0.899, n/ep=0, n/st=1, rew=-54.01]                          \n"
     ]
    },
    {
     "name": "stdout",
     "output_type": "stream",
     "text": [
      "Epoch #249: test_reward: -81.551653 ± 126.920526, best_reward: -21.577637 ± 34.049705 in #0\n"
     ]
    },
    {
     "name": "stderr",
     "output_type": "stream",
     "text": [
      "Epoch #250: 4321it [01:52, 38.27it/s, alpha=0.004, env_step=1080000, len=4321, loss/actor=3.367, loss/alpha=-2.288, loss/critic1=3.844, loss/critic2=4.218, n/ep=0, n/st=1, rew=-67.96]                            \n"
     ]
    },
    {
     "name": "stdout",
     "output_type": "stream",
     "text": [
      "Epoch #252: test_reward: -78.381367 ± 48.392448, best_reward: -21.577637 ± 34.049705 in #0\n"
     ]
    },
    {
     "name": "stderr",
     "output_type": "stream",
     "text": [
      "Epoch #253: 4321it [01:55, 37.52it/s, alpha=0.003, env_step=1092960, len=4321, loss/actor=3.584, loss/alpha=-3.828, loss/critic1=1.410, loss/critic2=1.610, n/ep=0, n/st=1, rew=-52.20]                           \n"
     ]
    },
    {
     "name": "stdout",
     "output_type": "stream",
     "text": [
      "Epoch #255: test_reward: -22.419866 ± 68.948860, best_reward: -21.577637 ± 34.049705 in #0\n"
     ]
    },
    {
     "name": "stderr",
     "output_type": "stream",
     "text": [
      "Epoch #256: 4321it [01:54, 37.77it/s, alpha=0.003, env_step=1105920, len=4321, loss/actor=3.736, loss/alpha=-0.807, loss/critic1=1.008, loss/critic2=0.940, n/ep=0, n/st=1, rew=-241.97]                          \n"
     ]
    },
    {
     "name": "stdout",
     "output_type": "stream",
     "text": [
      "Epoch #258: test_reward: -33.692575 ± 32.965800, best_reward: -21.577637 ± 34.049705 in #0\n"
     ]
    },
    {
     "name": "stderr",
     "output_type": "stream",
     "text": [
      "Epoch #261: 4321it [01:54, 37.72it/s, alpha=0.003, env_step=1127520, len=4321, loss/actor=3.566, loss/alpha=-0.316, loss/critic1=1.341, loss/critic2=1.678, n/ep=0, n/st=1, rew=-69.69]                          \n",
      "Epoch #262: 4321it [01:54, 37.63it/s, alpha=0.003, env_step=1131840, len=4321, loss/actor=3.626, loss/alpha=-1.486, loss/critic1=1.152, loss/critic2=1.311, n/ep=0, n/st=1, rew=-78.00]                          \n"
     ]
    },
    {
     "name": "stdout",
     "output_type": "stream",
     "text": [
      "Epoch #262: test_reward: -79.121318 ± 79.127763, best_reward: -21.577637 ± 34.049705 in #0\n"
     ]
    },
    {
     "name": "stderr",
     "output_type": "stream",
     "text": [
      "Epoch #263: 4321it [01:49, 39.34it/s, alpha=0.003, env_step=1136160, len=4321, loss/actor=3.578, loss/alpha=2.865, loss/critic1=0.848, loss/critic2=1.059, n/ep=0, n/st=1, rew=-59.36]                           \n",
      "Epoch #268: 4321it [01:53, 38.10it/s, alpha=0.003, env_step=1157760, len=4321, loss/actor=3.848, loss/alpha=1.562, loss/critic1=13.008, loss/critic2=12.966, n/ep=0, n/st=1, rew=-178.40]                           \n"
     ]
    },
    {
     "name": "stdout",
     "output_type": "stream",
     "text": [
      "Epoch #268: test_reward: -42.612670 ± 33.806048, best_reward: -21.577637 ± 34.049705 in #0\n"
     ]
    },
    {
     "name": "stderr",
     "output_type": "stream",
     "text": [
      "Epoch #269: 4321it [01:52, 38.34it/s, alpha=0.003, env_step=1162080, len=4321, loss/actor=3.489, loss/alpha=-1.283, loss/critic1=1.372, loss/critic2=1.624, n/ep=0, n/st=1, rew=-75.11]                           \n"
     ]
    },
    {
     "name": "stdout",
     "output_type": "stream",
     "text": [
      "Epoch #272: test_reward: -65.003792 ± 19.557315, best_reward: -21.577637 ± 34.049705 in #0\n"
     ]
    },
    {
     "name": "stderr",
     "output_type": "stream",
     "text": [
      "Epoch #273:  81%|########1 | 3506/4320 [01:32<00:25, 31.96it/s, alpha=0.003, env_step=1178546, len=4244, loss/actor=3.426, loss/alpha=-2.103, loss/critic1=0.893, loss/critic2=0.970, n/ep=0, n/st=1, rew=-2.97]"
     ]
    },
    {
     "name": "stdout",
     "output_type": "stream",
     "text": [
      "Epoch #275: test_reward: -38.190332 ± 32.431602, best_reward: -21.577637 ± 34.049705 in #0\n"
     ]
    },
    {
     "name": "stderr",
     "output_type": "stream",
     "text": [
      "Epoch #276:  77%|#######7  | 3339/4320 [01:27<00:25, 39.04it/s, alpha=0.002, env_step=1191339, len=4321, loss/actor=3.351, loss/alpha=-4.231, loss/critic1=0.923, loss/critic2=0.933, n/ep=0, n/st=1, rew=-67.78]"
     ]
    },
    {
     "name": "stdout",
     "output_type": "stream",
     "text": [
      "Epoch #278: test_reward: -27.800020 ± 26.350858, best_reward: -21.577637 ± 34.049705 in #0\n"
     ]
    },
    {
     "name": "stderr",
     "output_type": "stream",
     "text": [
      "Epoch #279: 4321it [01:53, 37.91it/s, alpha=0.002, env_step=1205280, len=4321, loss/actor=3.249, loss/alpha=-0.452, loss/critic1=1.274, loss/critic2=1.002, n/ep=0, n/st=1, rew=-115.85]                          \n",
      "Epoch #282: 4321it [01:52, 38.41it/s, alpha=0.003, env_step=1218240, len=4321, loss/actor=3.204, loss/alpha=-2.428, loss/critic1=1.198, loss/critic2=1.307, n/ep=0, n/st=1, rew=-68.95]                          \n"
     ]
    },
    {
     "name": "stdout",
     "output_type": "stream",
     "text": [
      "Epoch #283: test_reward: -76.200283 ± 64.663217, best_reward: -21.577637 ± 34.049705 in #0\n"
     ]
    },
    {
     "name": "stderr",
     "output_type": "stream",
     "text": [
      "Epoch #284: 4321it [01:51, 38.80it/s, alpha=0.003, env_step=1226880, len=4272, loss/actor=3.097, loss/alpha=-2.958, loss/critic1=1.474, loss/critic2=0.884, n/ep=0, n/st=1, rew=-58.29]                           \n"
     ]
    },
    {
     "name": "stdout",
     "output_type": "stream",
     "text": [
      "Epoch #295: test_reward: -97.037549 ± 72.703422, best_reward: 5.420460 ± 7.286136 in #290\n"
     ]
    },
    {
     "name": "stderr",
     "output_type": "stream",
     "text": [
      "Epoch #296:  88%|########8 | 3821/4320 [01:41<00:12, 40.02it/s, alpha=0.003, env_step=1278221, len=4321, loss/actor=3.299, loss/alpha=-2.969, loss/critic1=1.742, loss/critic2=1.425, n/ep=0, n/st=1, rew=-64.95]"
     ]
    },
    {
     "name": "stdout",
     "output_type": "stream",
     "text": [
      "Epoch #298: test_reward: -62.802218 ± 29.959323, best_reward: 5.420460 ± 7.286136 in #290\n"
     ]
    },
    {
     "name": "stderr",
     "output_type": "stream",
     "text": [
      "Epoch #299: 4321it [01:53, 38.08it/s, alpha=0.002, env_step=1291680, len=4321, loss/actor=3.132, loss/alpha=-2.438, loss/critic1=0.762, loss/critic2=0.629, n/ep=0, n/st=1, rew=-75.52]                          \n",
      "Epoch #302: 4321it [01:52, 38.49it/s, alpha=0.003, env_step=1304640, len=4321, loss/actor=3.083, loss/alpha=-0.968, loss/critic1=0.751, loss/critic2=0.624, n/ep=0, n/st=1, rew=-80.52]                          \n"
     ]
    },
    {
     "name": "stdout",
     "output_type": "stream",
     "text": [
      "Epoch #302: test_reward: -40.247847 ± 26.303429, best_reward: 5.420460 ± 7.286136 in #290\n"
     ]
    },
    {
     "name": "stderr",
     "output_type": "stream",
     "text": [
      "Epoch #306:  90%|######### | 3909/4320 [01:43<00:09, 42.44it/s, alpha=0.002, env_step=1321509, len=4321, loss/actor=2.998, loss/alpha=-2.801, loss/critic1=1.929, loss/critic2=1.973, n/ep=0, n/st=1, rew=-54.91]"
     ]
    },
    {
     "name": "stdout",
     "output_type": "stream",
     "text": [
      "Epoch #308: test_reward: -64.776300 ± 34.604021, best_reward: 5.420460 ± 7.286136 in #290\n"
     ]
    },
    {
     "name": "stderr",
     "output_type": "stream",
     "text": [
      "Epoch #312: 4321it [01:53, 38.20it/s, alpha=0.003, env_step=1347840, len=4321, loss/actor=3.088, loss/alpha=7.128, loss/critic1=7.705, loss/critic2=9.636, n/ep=0, n/st=1, rew=-69.74]                           \n"
     ]
    },
    {
     "name": "stdout",
     "output_type": "stream",
     "text": [
      "Epoch #313: test_reward: -181.721870 ± 214.256756, best_reward: 5.420460 ± 7.286136 in #290\n"
     ]
    },
    {
     "name": "stderr",
     "output_type": "stream",
     "text": [
      "Epoch #314: 4321it [01:52, 38.30it/s, alpha=0.003, env_step=1356480, len=4321, loss/actor=3.364, loss/alpha=5.537, loss/critic1=9.110, loss/critic2=8.136, n/ep=0, n/st=1, rew=-60.70]                            \n",
      "Epoch #317: 4321it [01:55, 37.42it/s, alpha=0.002, env_step=1369440, len=4321, loss/actor=3.174, loss/alpha=1.633, loss/critic1=0.504, loss/critic2=0.640, n/ep=0, n/st=1, rew=-58.27]                           \n",
      "Epoch #318: 4321it [01:52, 38.39it/s, alpha=0.002, env_step=1373760, len=4321, loss/actor=3.181, loss/alpha=-0.983, loss/critic1=0.744, loss/critic2=1.610, n/ep=0, n/st=1, rew=-125.83]                          \n",
      "Epoch #321: 4321it [01:51, 38.83it/s, alpha=0.003, env_step=1386720, len=4321, loss/actor=3.145, loss/alpha=-3.402, loss/critic1=2.258, loss/critic2=2.300, n/ep=0, n/st=1, rew=-100.51]                          \n"
     ]
    },
    {
     "name": "stdout",
     "output_type": "stream",
     "text": [
      "Epoch #322: test_reward: -66.863414 ± 22.026792, best_reward: 5.420460 ± 7.286136 in #290\n"
     ]
    },
    {
     "name": "stderr",
     "output_type": "stream",
     "text": [
      "Epoch #326: 4321it [01:53, 38.21it/s, alpha=0.002, env_step=1408320, len=4321, loss/actor=2.938, loss/alpha=8.238, loss/critic1=2.150, loss/critic2=2.423, n/ep=0, n/st=1, rew=-148.21]                           \n"
     ]
    },
    {
     "name": "stdout",
     "output_type": "stream",
     "text": [
      "Epoch #327: test_reward: -43.275753 ± 30.577691, best_reward: 5.420460 ± 7.286136 in #290\n"
     ]
    },
    {
     "name": "stderr",
     "output_type": "stream",
     "text": [
      "Epoch #330: 4321it [01:52, 38.26it/s, alpha=0.003, env_step=1425600, len=4321, loss/actor=3.019, loss/alpha=5.222, loss/critic1=1.413, loss/critic2=1.432, n/ep=0, n/st=1, rew=-60.91]                           \n",
      "Epoch #331: 4321it [01:55, 37.39it/s, alpha=0.002, env_step=1429920, len=4321, loss/actor=2.991, loss/alpha=-3.715, loss/critic1=1.697, loss/critic2=1.886, n/ep=0, n/st=1, rew=-99.39]                          \n",
      "Epoch #333:  81%|########1 | 3517/4320 [01:34<00:21, 36.58it/s, alpha=0.003, env_step=1437757, len=4321, loss/actor=2.919, loss/alpha=-6.509, loss/critic1=1.102, loss/critic2=0.932, n/ep=0, n/st=1, rew=-77.59]  "
     ]
    },
    {
     "name": "stdout",
     "output_type": "stream",
     "text": [
      "Epoch #335: test_reward: -52.451497 ± 17.804885, best_reward: 5.420460 ± 7.286136 in #290\n"
     ]
    },
    {
     "name": "stderr",
     "output_type": "stream",
     "text": [
      "Epoch #336:  82%|########2 | 3557/4320 [01:32<00:25, 30.29it/s, alpha=0.002, env_step=1450757, len=4321, loss/actor=3.017, loss/alpha=1.903, loss/critic1=1.138, loss/critic2=1.197, n/ep=0, n/st=1, rew=-53.88] "
     ]
    },
    {
     "name": "stdout",
     "output_type": "stream",
     "text": [
      "Epoch #338: test_reward: -53.597664 ± 50.147588, best_reward: 5.420460 ± 7.286136 in #290\n"
     ]
    },
    {
     "name": "stderr",
     "output_type": "stream",
     "text": [
      "Epoch #339: 4321it [01:52, 38.37it/s, alpha=0.002, env_step=1464480, len=4321, loss/actor=2.941, loss/alpha=-3.234, loss/critic1=0.968, loss/critic2=0.721, n/ep=0, n/st=1, rew=-98.29]                          \n"
     ]
    },
    {
     "name": "stdout",
     "output_type": "stream",
     "text": [
      "Epoch #342: test_reward: -51.808937 ± 2.061233, best_reward: 5.420460 ± 7.286136 in #290\n"
     ]
    },
    {
     "name": "stderr",
     "output_type": "stream",
     "text": [
      "Epoch #356: 4321it [01:53, 38.09it/s, alpha=0.005, env_step=1537920, len=4321, loss/actor=4.189, loss/alpha=-6.068, loss/critic1=0.398, loss/critic2=0.595, n/ep=0, n/st=1, rew=-69.79]                          \n"
     ]
    },
    {
     "name": "stdout",
     "output_type": "stream",
     "text": [
      "Epoch #356: test_reward: -47.027450 ± 34.328435, best_reward: 5.420460 ± 7.286136 in #290\n"
     ]
    },
    {
     "name": "stderr",
     "output_type": "stream",
     "text": [
      "Epoch #357: 4321it [01:53, 38.13it/s, alpha=0.004, env_step=1542240, len=4321, loss/actor=4.170, loss/alpha=-3.497, loss/critic1=1.020, loss/critic2=1.597, n/ep=0, n/st=1, rew=-194.66]                          \n",
      "Epoch #360: 4321it [01:55, 37.35it/s, alpha=0.004, env_step=1555200, len=4321, loss/actor=3.904, loss/alpha=3.515, loss/critic1=0.975, loss/critic2=1.080, n/ep=0, n/st=1, rew=-70.15]                          \n",
      "Epoch #361: 4321it [01:52, 38.25it/s, alpha=0.003, env_step=1559520, len=4321, loss/actor=3.932, loss/alpha=-4.533, loss/critic1=0.772, loss/critic2=0.736, n/ep=0, n/st=1, rew=-73.86]                          \n",
      "Epoch #362: 4321it [01:52, 38.56it/s, alpha=0.003, env_step=1563840, len=4321, loss/actor=3.919, loss/alpha=0.443, loss/critic1=3.573, loss/critic2=4.328, n/ep=0, n/st=1, rew=-99.49]                            \n",
      "Epoch #364: 4321it [01:53, 37.93it/s, alpha=0.002, env_step=1572480, len=4221, loss/actor=3.670, loss/alpha=1.400, loss/critic1=0.726, loss/critic2=1.076, n/ep=0, n/st=1, rew=1.83]                             \n"
     ]
    },
    {
     "name": "stdout",
     "output_type": "stream",
     "text": [
      "Epoch #365: test_reward: -53.235400 ± 5.201045, best_reward: 5.420460 ± 7.286136 in #290\n"
     ]
    },
    {
     "name": "stderr",
     "output_type": "stream",
     "text": [
      "Epoch #366: 4321it [01:53, 38.15it/s, alpha=0.003, env_step=1581120, len=4321, loss/actor=3.427, loss/alpha=0.050, loss/critic1=0.563, loss/critic2=0.509, n/ep=0, n/st=1, rew=-58.17]                           \n",
      "Epoch #369: 4321it [01:53, 38.07it/s, alpha=0.003, env_step=1594080, len=4321, loss/actor=3.574, loss/alpha=-2.457, loss/critic1=1.845, loss/critic2=2.031, n/ep=0, n/st=1, rew=-72.14]                          \n"
     ]
    },
    {
     "name": "stdout",
     "output_type": "stream",
     "text": [
      "Epoch #370: test_reward: -61.355222 ± 21.218310, best_reward: 5.420460 ± 7.286136 in #290\n"
     ]
    },
    {
     "name": "stderr",
     "output_type": "stream",
     "text": [
      "Epoch #374: 4321it [01:53, 37.92it/s, alpha=0.003, env_step=1615680, len=4321, loss/actor=3.608, loss/alpha=5.436, loss/critic1=1.339, loss/critic2=1.449, n/ep=0, n/st=1, rew=-71.26]                            \n"
     ]
    },
    {
     "name": "stdout",
     "output_type": "stream",
     "text": [
      "Epoch #376: test_reward: -53.135723 ± 5.198178, best_reward: 5.420460 ± 7.286136 in #290\n"
     ]
    },
    {
     "name": "stderr",
     "output_type": "stream",
     "text": [
      "Epoch #377: 4321it [01:54, 37.86it/s, alpha=0.003, env_step=1628640, len=4321, loss/actor=3.636, loss/alpha=1.129, loss/critic1=2.122, loss/critic2=2.035, n/ep=0, n/st=1, rew=-60.92]                           \n",
      "Epoch #380: 4321it [01:51, 38.76it/s, alpha=0.002, env_step=1641600, len=4321, loss/actor=3.325, loss/alpha=-3.194, loss/critic1=0.692, loss/critic2=0.816, n/ep=0, n/st=1, rew=-92.32]                          \n",
      "Epoch #381: 4321it [01:53, 37.93it/s, alpha=0.002, env_step=1645920, len=4115, loss/actor=3.369, loss/alpha=3.323, loss/critic1=1.759, loss/critic2=2.215, n/ep=0, n/st=1, rew=-6.53]                            \n",
      "Epoch #383: 4321it [01:55, 37.33it/s, alpha=0.003, env_step=1654560, len=4321, loss/actor=3.307, loss/alpha=-2.413, loss/critic1=0.501, loss/critic2=0.749, n/ep=0, n/st=1, rew=-112.55]                          \n"
     ]
    },
    {
     "name": "stdout",
     "output_type": "stream",
     "text": [
      "Epoch #384: test_reward: -124.202956 ± 135.597734, best_reward: 5.420460 ± 7.286136 in #290\n"
     ]
    },
    {
     "name": "stderr",
     "output_type": "stream",
     "text": [
      "Epoch #385: 4321it [01:55, 37.40it/s, alpha=0.003, env_step=1663200, len=4321, loss/actor=3.132, loss/alpha=4.073, loss/critic1=0.541, loss/critic2=0.751, n/ep=0, n/st=1, rew=-100.43]                           \n",
      "Epoch #388: 4321it [01:51, 38.87it/s, alpha=0.002, env_step=1676160, len=4321, loss/actor=2.979, loss/alpha=-1.379, loss/critic1=0.991, loss/critic2=1.038, n/ep=0, n/st=1, rew=-62.15]                          \n"
     ]
    },
    {
     "name": "stdout",
     "output_type": "stream",
     "text": [
      "Epoch #388: test_reward: -75.576567 ± 16.943922, best_reward: 5.420460 ± 7.286136 in #290\n"
     ]
    },
    {
     "name": "stderr",
     "output_type": "stream",
     "text": [
      "Epoch #391: 4321it [01:50, 38.96it/s, alpha=0.002, env_step=1689120, len=4321, loss/actor=2.951, loss/alpha=-5.412, loss/critic1=1.118, loss/critic2=1.545, n/ep=0, n/st=1, rew=-70.97]                          \n",
      "Epoch #392: 4321it [01:52, 38.52it/s, alpha=0.002, env_step=1693440, len=4321, loss/actor=2.988, loss/alpha=4.551, loss/critic1=2.342, loss/critic2=2.228, n/ep=0, n/st=1, rew=-95.02]                           \n"
     ]
    },
    {
     "name": "stdout",
     "output_type": "stream",
     "text": [
      "Epoch #394: test_reward: -53.185044 ± 3.158726, best_reward: 5.420460 ± 7.286136 in #290\n"
     ]
    },
    {
     "name": "stderr",
     "output_type": "stream",
     "text": [
      "Epoch #395: 4321it [01:55, 37.33it/s, alpha=0.002, env_step=1706400, len=4321, loss/actor=3.010, loss/alpha=0.300, loss/critic1=1.858, loss/critic2=1.730, n/ep=0, n/st=1, rew=-66.61]                           \n"
     ]
    },
    {
     "name": "stdout",
     "output_type": "stream",
     "text": [
      "Epoch #398: test_reward: -60.458176 ± 24.526659, best_reward: 5.420460 ± 7.286136 in #290\n"
     ]
    },
    {
     "name": "stderr",
     "output_type": "stream",
     "text": [
      "Epoch #399:  72%|#######1  | 3110/4320 [01:21<00:35, 33.69it/s, alpha=0.002, env_step=1722470, len=4321, loss/actor=2.973, loss/alpha=-2.789, loss/critic1=0.639, loss/critic2=0.434, n/ep=0, n/st=1, rew=-63.67] "
     ]
    },
    {
     "name": "stdout",
     "output_type": "stream",
     "text": [
      "Epoch #401: test_reward: -52.014999 ± 2.183613, best_reward: 5.420460 ± 7.286136 in #290\n"
     ]
    },
    {
     "name": "stderr",
     "output_type": "stream",
     "text": [
      "Epoch #402: 4321it [01:53, 38.16it/s, alpha=0.002, env_step=1736640, len=4321, loss/actor=2.975, loss/alpha=-0.610, loss/critic1=1.016, loss/critic2=1.388, n/ep=0, n/st=1, rew=-52.04]                           \n"
     ]
    },
    {
     "name": "stdout",
     "output_type": "stream",
     "text": [
      "Epoch #405: test_reward: -60.235633 ± 16.207439, best_reward: 5.420460 ± 7.286136 in #290\n"
     ]
    },
    {
     "name": "stderr",
     "output_type": "stream",
     "text": [
      "Epoch #406:  99%|#########9| 4282/4320 [01:53<00:00, 41.09it/s, alpha=0.002, env_step=1753882, len=4321, loss/actor=3.067, loss/alpha=-3.206, loss/critic1=1.422, loss/critic2=1.480, n/ep=0, n/st=1, rew=-56.73]"
     ]
    },
    {
     "name": "stdout",
     "output_type": "stream",
     "text": [
      "Epoch #409: test_reward: -53.963125 ± 9.603745, best_reward: 5.420460 ± 7.286136 in #290\n"
     ]
    },
    {
     "name": "stderr",
     "output_type": "stream",
     "text": [
      "Epoch #410: 4321it [01:52, 38.31it/s, alpha=0.002, env_step=1771200, len=4321, loss/actor=2.982, loss/alpha=-3.830, loss/critic1=0.545, loss/critic2=1.113, n/ep=0, n/st=1, rew=-66.44]                           \n"
     ]
    },
    {
     "name": "stdout",
     "output_type": "stream",
     "text": [
      "Epoch #413: test_reward: -59.882575 ± 32.954104, best_reward: 5.420460 ± 7.286136 in #290\n"
     ]
    },
    {
     "name": "stderr",
     "output_type": "stream",
     "text": [
      "Epoch #414: 4321it [01:54, 37.68it/s, alpha=0.002, env_step=1788480, len=4321, loss/actor=2.986, loss/alpha=0.436, loss/critic1=0.951, loss/critic2=1.179, n/ep=0, n/st=1, rew=-53.54]                           \n"
     ]
    },
    {
     "name": "stdout",
     "output_type": "stream",
     "text": [
      "Epoch #417: test_reward: -67.064664 ± 37.609504, best_reward: 5.420460 ± 7.286136 in #290\n"
     ]
    },
    {
     "name": "stderr",
     "output_type": "stream",
     "text": [
      "Epoch #418: 4321it [01:53, 38.10it/s, alpha=0.003, env_step=1805760, len=4321, loss/actor=3.066, loss/alpha=10.536, loss/critic1=3.206, loss/critic2=3.836, n/ep=0, n/st=1, rew=-212.49]                            \n"
     ]
    },
    {
     "name": "stdout",
     "output_type": "stream",
     "text": [
      "Epoch #421: test_reward: -144.593398 ± 52.315472, best_reward: 5.420460 ± 7.286136 in #290\n"
     ]
    },
    {
     "name": "stderr",
     "output_type": "stream",
     "text": [
      "Epoch #422: 4321it [01:53, 37.93it/s, alpha=0.002, env_step=1823040, len=4321, loss/actor=3.115, loss/alpha=3.690, loss/critic1=2.303, loss/critic2=3.134, n/ep=0, n/st=1, rew=-305.22]                           \n"
     ]
    },
    {
     "name": "stdout",
     "output_type": "stream",
     "text": [
      "Epoch #425: test_reward: -85.689799 ± 46.622296, best_reward: 5.420460 ± 7.286136 in #290\n"
     ]
    },
    {
     "name": "stderr",
     "output_type": "stream",
     "text": [
      "Epoch #426:  98%|#########7| 4227/4320 [01:54<00:02, 41.27it/s, alpha=0.002, env_step=1840227, len=4321, loss/actor=2.976, loss/alpha=-3.646, loss/critic1=1.386, loss/critic2=1.629, n/ep=0, n/st=1, rew=-192.83]"
     ]
    },
    {
     "name": "stdout",
     "output_type": "stream",
     "text": [
      "Epoch #429: test_reward: -60.383418 ± 21.193168, best_reward: 5.420460 ± 7.286136 in #290\n"
     ]
    },
    {
     "name": "stderr",
     "output_type": "stream",
     "text": [
      "Epoch #430: 4321it [01:52, 38.48it/s, alpha=0.003, env_step=1857600, len=4321, loss/actor=3.173, loss/alpha=-2.122, loss/critic1=1.214, loss/critic2=1.434, n/ep=0, n/st=1, rew=-110.42]                          \n"
     ]
    },
    {
     "name": "stdout",
     "output_type": "stream",
     "text": [
      "Epoch #433: test_reward: -177.139106 ± 101.708855, best_reward: 5.420460 ± 7.286136 in #290\n"
     ]
    },
    {
     "name": "stderr",
     "output_type": "stream",
     "text": [
      "Epoch #434: 4321it [01:55, 37.56it/s, alpha=0.003, env_step=1874880, len=4097, loss/actor=3.102, loss/alpha=2.903, loss/critic1=1.882, loss/critic2=1.887, n/ep=0, n/st=1, rew=-38.97]                           \n"
     ]
    },
    {
     "name": "stdout",
     "output_type": "stream",
     "text": [
      "Epoch #437: test_reward: -88.988646 ± 47.709719, best_reward: 5.420460 ± 7.286136 in #290\n"
     ]
    },
    {
     "name": "stderr",
     "output_type": "stream",
     "text": [
      "Epoch #441: 4321it [01:52, 38.38it/s, alpha=0.002, env_step=1905120, len=4321, loss/actor=3.167, loss/alpha=-5.973, loss/critic1=1.207, loss/critic2=1.090, n/ep=0, n/st=1, rew=-111.58]                          \n"
     ]
    },
    {
     "name": "stdout",
     "output_type": "stream",
     "text": [
      "Epoch #442: test_reward: -136.741360 ± 122.215050, best_reward: 5.420460 ± 7.286136 in #290\n"
     ]
    },
    {
     "name": "stderr",
     "output_type": "stream",
     "text": [
      "Epoch #443: 4321it [01:53, 37.91it/s, alpha=0.003, env_step=1913760, len=4269, loss/actor=3.206, loss/alpha=0.295, loss/critic1=0.920, loss/critic2=0.769, n/ep=0, n/st=1, rew=-91.13]                           \n"
     ]
    },
    {
     "name": "stdout",
     "output_type": "stream",
     "text": [
      "Epoch #446: test_reward: -73.486068 ± 36.158422, best_reward: 5.420460 ± 7.286136 in #290\n"
     ]
    },
    {
     "name": "stderr",
     "output_type": "stream",
     "text": [
      "Epoch #447: 4321it [01:54, 37.83it/s, alpha=0.002, env_step=1931040, len=4321, loss/actor=3.320, loss/alpha=-0.040, loss/critic1=1.929, loss/critic2=1.384, n/ep=0, n/st=1, rew=-82.33]                            \n"
     ]
    },
    {
     "name": "stdout",
     "output_type": "stream",
     "text": [
      "Epoch #450: test_reward: -85.294038 ± 29.775747, best_reward: 5.420460 ± 7.286136 in #290\n"
     ]
    },
    {
     "name": "stderr",
     "output_type": "stream",
     "text": [
      "Epoch #451:  96%|#########5| 4140/4320 [01:48<00:05, 35.06it/s, alpha=0.002, env_step=1948140, len=4321, loss/actor=3.220, loss/alpha=-0.093, loss/critic1=2.000, loss/critic2=2.311, n/ep=0, n/st=1, rew=-110.93]"
     ]
    },
    {
     "name": "stdout",
     "output_type": "stream",
     "text": [
      "Epoch #454: test_reward: -42.380835 ± 44.321774, best_reward: 5.420460 ± 7.286136 in #290\n"
     ]
    },
    {
     "name": "stderr",
     "output_type": "stream",
     "text": [
      "Epoch #455: 4321it [01:53, 38.04it/s, alpha=0.002, env_step=1965600, len=4321, loss/actor=3.060, loss/alpha=-0.836, loss/critic1=0.593, loss/critic2=0.664, n/ep=0, n/st=1, rew=-71.59]                          \n"
     ]
    },
    {
     "name": "stdout",
     "output_type": "stream",
     "text": [
      "Epoch #458: test_reward: -58.949248 ± 13.488060, best_reward: 5.420460 ± 7.286136 in #290\n"
     ]
    },
    {
     "name": "stderr",
     "output_type": "stream",
     "text": [
      "Epoch #459: 4321it [01:53, 38.12it/s, alpha=0.002, env_step=1982880, len=4321, loss/actor=2.728, loss/alpha=2.220, loss/critic1=1.354, loss/critic2=1.169, n/ep=0, n/st=1, rew=-109.96]                           \n"
     ]
    },
    {
     "name": "stdout",
     "output_type": "stream",
     "text": [
      "Epoch #462: test_reward: -174.161975 ± 120.282836, best_reward: 5.420460 ± 7.286136 in #290\n"
     ]
    },
    {
     "name": "stderr",
     "output_type": "stream",
     "text": [
      "Epoch #463:  95%|#########5| 4114/4320 [01:49<00:05, 37.66it/s, alpha=0.001, env_step=1999954, len=4321, loss/actor=2.446, loss/alpha=-0.671, loss/critic1=0.638, loss/critic2=0.656, n/ep=0, n/st=1, rew=-92.59] "
     ]
    },
    {
     "name": "stdout",
     "output_type": "stream",
     "text": [
      "Epoch #466: test_reward: -101.366263 ± 114.285585, best_reward: 5.420460 ± 7.286136 in #290\n"
     ]
    },
    {
     "name": "stderr",
     "output_type": "stream",
     "text": [
      "Epoch #467: 4321it [01:54, 37.70it/s, alpha=0.001, env_step=2017440, len=4066, loss/actor=1.975, loss/alpha=2.523, loss/critic1=0.527, loss/critic2=0.493, n/ep=0, n/st=1, rew=-214.22]                           \n"
     ]
    },
    {
     "name": "stdout",
     "output_type": "stream",
     "text": [
      "Epoch #470: test_reward: -145.833915 ± 120.758307, best_reward: 5.420460 ± 7.286136 in #290\n"
     ]
    },
    {
     "name": "stderr",
     "output_type": "stream",
     "text": [
      "Epoch #471: 4321it [01:53, 38.14it/s, alpha=0.001, env_step=2034720, len=4321, loss/actor=1.750, loss/alpha=-6.714, loss/critic1=0.495, loss/critic2=0.496, n/ep=0, n/st=1, rew=-85.19]                           \n"
     ]
    },
    {
     "name": "stdout",
     "output_type": "stream",
     "text": [
      "Epoch #474: test_reward: -81.543790 ± 114.163698, best_reward: 5.420460 ± 7.286136 in #290\n"
     ]
    },
    {
     "name": "stderr",
     "output_type": "stream",
     "text": [
      "Epoch #475:  92%|#########2| 3976/4320 [01:44<00:09, 36.35it/s, alpha=0.001, env_step=2051656, len=4321, loss/actor=1.744, loss/alpha=-3.256, loss/critic1=0.303, loss/critic2=0.302, n/ep=0, n/st=1, rew=-93.31] "
     ]
    },
    {
     "name": "stdout",
     "output_type": "stream",
     "text": [
      "Epoch #478: test_reward: -42.819098 ± 34.746438, best_reward: 5.420460 ± 7.286136 in #290\n"
     ]
    },
    {
     "name": "stderr",
     "output_type": "stream",
     "text": [
      "Epoch #479: 4321it [01:53, 38.04it/s, alpha=0.001, env_step=2069280, len=4321, loss/actor=1.551, loss/alpha=-3.667, loss/critic1=0.421, loss/critic2=0.406, n/ep=0, n/st=1, rew=-241.43]                           \n"
     ]
    },
    {
     "name": "stdout",
     "output_type": "stream",
     "text": [
      "Epoch #482: test_reward: -81.806873 ± 44.259748, best_reward: 5.420460 ± 7.286136 in #290\n"
     ]
    },
    {
     "name": "stderr",
     "output_type": "stream",
     "text": [
      "Epoch #483:  92%|#########2| 3980/4320 [01:45<00:10, 31.01it/s, alpha=0.001, env_step=2086220, len=4321, loss/actor=1.407, loss/alpha=-0.548, loss/critic1=0.369, loss/critic2=0.350, n/ep=0, n/st=1, rew=-101.53]"
     ]
    },
    {
     "name": "stdout",
     "output_type": "stream",
     "text": [
      "Epoch #486: test_reward: -734.848736 ± 1079.442152, best_reward: 5.420460 ± 7.286136 in #290\n"
     ]
    },
    {
     "name": "stderr",
     "output_type": "stream",
     "text": [
      "Epoch #487: 4321it [01:55, 37.51it/s, alpha=0.001, env_step=2103840, len=4321, loss/actor=1.333, loss/alpha=-8.859, loss/critic1=0.252, loss/critic2=0.269, n/ep=0, n/st=1, rew=-203.96]                           \n"
     ]
    },
    {
     "name": "stdout",
     "output_type": "stream",
     "text": [
      "Epoch #490: test_reward: -37.879992 ± 61.895463, best_reward: 5.420460 ± 7.286136 in #290\n"
     ]
    },
    {
     "name": "stderr",
     "output_type": "stream",
     "text": [
      "Epoch #491: 4321it [01:54, 37.68it/s, alpha=0.001, env_step=2121120, len=4321, loss/actor=1.357, loss/alpha=-10.017, loss/critic1=0.512, loss/critic2=0.453, n/ep=0, n/st=1, rew=-68.82]                          \n"
     ]
    },
    {
     "name": "stdout",
     "output_type": "stream",
     "text": [
      "Epoch #494: test_reward: -156.184763 ± 149.543452, best_reward: 5.420460 ± 7.286136 in #290\n"
     ]
    },
    {
     "name": "stderr",
     "output_type": "stream",
     "text": [
      "Epoch #495:  74%|#######3  | 3181/4320 [01:21<00:27, 41.78it/s, alpha=0.001, env_step=2137261, len=4119, loss/actor=1.376, loss/alpha=4.107, loss/critic1=0.659, loss/critic2=0.770, n/ep=0, n/st=1, rew=-94.52]  "
     ]
    },
    {
     "name": "stdout",
     "output_type": "stream",
     "text": [
      "Epoch #497: test_reward: -2203.808701 ± 9103.089431, best_reward: 5.420460 ± 7.286136 in #290\n"
     ]
    },
    {
     "name": "stderr",
     "output_type": "stream",
     "text": [
      "Epoch #498: 4321it [01:53, 38.20it/s, alpha=0.001, env_step=2151360, len=4321, loss/actor=1.358, loss/alpha=-0.944, loss/critic1=0.844, loss/critic2=0.758, n/ep=0, n/st=1, rew=-184.43]                          \n"
     ]
    },
    {
     "name": "stdout",
     "output_type": "stream",
     "text": [
      "Epoch #501: test_reward: -102.152533 ± 157.566909, best_reward: 5.420460 ± 7.286136 in #290\n"
     ]
    },
    {
     "name": "stderr",
     "output_type": "stream",
     "text": [
      "Epoch #505: 4321it [01:54, 37.64it/s, alpha=0.002, env_step=2181600, len=4321, loss/actor=1.887, loss/alpha=-8.405, loss/critic1=0.659, loss/critic2=0.621, n/ep=0, n/st=1, rew=-219.60]                           \n",
      "Epoch #510: 4321it [01:50, 39.26it/s, alpha=0.001, env_step=2203200, len=4321, loss/actor=1.799, loss/alpha=11.588, loss/critic1=0.872, loss/critic2=0.869, n/ep=0, n/st=1, rew=-174.34]                          \n"
     ]
    },
    {
     "name": "stdout",
     "output_type": "stream",
     "text": [
      "Epoch #510: test_reward: -61.513784 ± 30.145632, best_reward: 5.420460 ± 7.286136 in #290\n"
     ]
    },
    {
     "name": "stderr",
     "output_type": "stream",
     "text": [
      "Epoch #514: 4321it [01:54, 37.90it/s, alpha=0.001, env_step=2220480, len=4050, loss/actor=1.907, loss/alpha=-6.937, loss/critic1=0.652, loss/critic2=0.698, n/ep=0, n/st=1, rew=-41.38]                          ]\n",
      "Epoch #515: 4321it [01:55, 37.46it/s, alpha=0.001, env_step=2224800, len=3932, loss/actor=1.847, loss/alpha=2.800, loss/critic1=0.426, loss/critic2=0.396, n/ep=0, n/st=1, rew=-114.73]                           \n",
      "Epoch #517: 4321it [01:53, 38.08it/s, alpha=0.001, env_step=2233440, len=4268, loss/actor=1.683, loss/alpha=10.297, loss/critic1=0.423, loss/critic2=0.617, n/ep=0, n/st=1, rew=-91.60]                           \n",
      "Epoch #519: 4321it [01:51, 38.65it/s, alpha=0.001, env_step=2242080, len=4321, loss/actor=1.565, loss/alpha=-3.530, loss/critic1=0.290, loss/critic2=0.276, n/ep=0, n/st=1, rew=-67.27]                           \n",
      "Epoch #521: 4321it [01:53, 38.07it/s, alpha=0.001, env_step=2250720, len=3764, loss/actor=1.532, loss/alpha=0.182, loss/critic1=0.584, loss/critic2=0.563, n/ep=0, n/st=1, rew=-347.03]                           \n"
     ]
    },
    {
     "name": "stdout",
     "output_type": "stream",
     "text": [
      "Epoch #523: test_reward: -115.634473 ± 86.775325, best_reward: 5.420460 ± 7.286136 in #290\n"
     ]
    },
    {
     "name": "stderr",
     "output_type": "stream",
     "text": [
      "Epoch #524: 4321it [01:55, 37.47it/s, alpha=0.001, env_step=2263680, len=4199, loss/actor=1.454, loss/alpha=-0.186, loss/critic1=0.510, loss/critic2=0.569, n/ep=0, n/st=1, rew=-61.67]                          \n",
      "Epoch #528: 4321it [01:55, 37.42it/s, alpha=0.001, env_step=2280960, len=4321, loss/actor=1.340, loss/alpha=-4.699, loss/critic1=0.996, loss/critic2=1.190, n/ep=0, n/st=1, rew=-107.46]                          \n"
     ]
    },
    {
     "name": "stdout",
     "output_type": "stream",
     "text": [
      "Epoch #530: test_reward: -52.855567 ± 3.712933, best_reward: 5.420460 ± 7.286136 in #290\n"
     ]
    },
    {
     "name": "stderr",
     "output_type": "stream",
     "text": [
      "Epoch #531: 4321it [01:55, 37.25it/s, alpha=0.001, env_step=2293920, len=4321, loss/actor=1.344, loss/alpha=-0.185, loss/critic1=0.657, loss/critic2=0.635, n/ep=0, n/st=1, rew=-180.98]                          \n",
      "Epoch #535: 4321it [01:53, 38.19it/s, alpha=0.001, env_step=2311200, len=4321, loss/actor=1.344, loss/alpha=-0.969, loss/critic1=0.635, loss/critic2=0.603, n/ep=0, n/st=1, rew=-61.56]                           \n",
      "Epoch #538: 4321it [01:54, 37.65it/s, alpha=0.001, env_step=2324160, len=4321, loss/actor=1.334, loss/alpha=8.947, loss/critic1=0.511, loss/critic2=0.393, n/ep=0, n/st=1, rew=-54.78]                            \n"
     ]
    },
    {
     "name": "stdout",
     "output_type": "stream",
     "text": [
      "Epoch #539: test_reward: -72.732197 ± 28.602396, best_reward: 5.420460 ± 7.286136 in #290\n"
     ]
    },
    {
     "name": "stderr",
     "output_type": "stream",
     "text": [
      "Epoch #540:  62%|######1   | 2670/4320 [01:11<00:44, 36.75it/s, alpha=0.001, env_step=2331150, len=4070, loss/actor=1.311, loss/alpha=6.544, loss/critic1=0.487, loss/critic2=0.506, n/ep=0, n/st=1, rew=-505.53] "
     ]
    },
    {
     "name": "stdout",
     "output_type": "stream",
     "text": [
      "Epoch #542: test_reward: -150.808664 ± 150.455436, best_reward: 5.420460 ± 7.286136 in #290\n"
     ]
    },
    {
     "name": "stderr",
     "output_type": "stream",
     "text": [
      "Epoch #543: 4321it [01:55, 37.49it/s, alpha=0.001, env_step=2345760, len=4321, loss/actor=1.444, loss/alpha=-1.563, loss/critic1=0.382, loss/critic2=0.348, n/ep=0, n/st=1, rew=-619.91]                          \n",
      "Epoch #547: 4321it [01:51, 38.84it/s, alpha=0.001, env_step=2363040, len=4321, loss/actor=1.423, loss/alpha=0.730, loss/critic1=0.961, loss/critic2=0.804, n/ep=0, n/st=1, rew=-80.92]                           \n",
      "Epoch #550: 4321it [01:51, 38.74it/s, alpha=0.001, env_step=2376000, len=4321, loss/actor=1.453, loss/alpha=-3.489, loss/critic1=0.589, loss/critic2=0.531, n/ep=0, n/st=1, rew=-67.14]                           \n"
     ]
    },
    {
     "name": "stdout",
     "output_type": "stream",
     "text": [
      "Epoch #552: test_reward: -487.035873 ± 557.205589, best_reward: 5.420460 ± 7.286136 in #290\n"
     ]
    },
    {
     "name": "stderr",
     "output_type": "stream",
     "text": [
      "Epoch #553: 4321it [01:52, 38.33it/s, alpha=0.001, env_step=2388960, len=4321, loss/actor=1.355, loss/alpha=2.146, loss/critic1=0.769, loss/critic2=0.738, n/ep=0, n/st=1, rew=-245.02]                            \n",
      "Epoch #584: 4321it [01:54, 37.67it/s, alpha=0.001, env_step=2522880, len=4210, loss/actor=1.818, loss/alpha=-5.219, loss/critic1=0.423, loss/critic2=0.342, n/ep=0, n/st=1, rew=-75.83]                            \n",
      "Epoch #587: 4321it [01:53, 37.96it/s, alpha=0.001, env_step=2535840, len=4321, loss/actor=1.658, loss/alpha=-0.372, loss/critic1=0.959, loss/critic2=1.067, n/ep=0, n/st=1, rew=-108.02]                          \n"
     ]
    },
    {
     "name": "stdout",
     "output_type": "stream",
     "text": [
      "Epoch #589: test_reward: -78.560164 ± 38.649486, best_reward: 5.420460 ± 7.286136 in #290\n"
     ]
    },
    {
     "name": "stderr",
     "output_type": "stream",
     "text": [
      "Epoch #590: 4321it [01:53, 38.13it/s, alpha=0.001, env_step=2548800, len=4321, loss/actor=1.579, loss/alpha=1.916, loss/critic1=0.748, loss/critic2=0.614, n/ep=0, n/st=1, rew=-85.38]                            \n"
     ]
    },
    {
     "name": "stdout",
     "output_type": "stream",
     "text": [
      "Epoch #594: test_reward: -99.683566 ± 52.856980, best_reward: 5.420460 ± 7.286136 in #290\n"
     ]
    },
    {
     "name": "stderr",
     "output_type": "stream",
     "text": [
      "Epoch #595: 4321it [02:00, 35.78it/s, alpha=0.001, env_step=2570400, len=4321, loss/actor=1.617, loss/alpha=-4.668, loss/critic1=0.526, loss/critic2=0.550, n/ep=0, n/st=1, rew=-84.97]                           \n"
     ]
    },
    {
     "name": "stdout",
     "output_type": "stream",
     "text": [
      "Epoch #599: test_reward: -130.309215 ± 152.597516, best_reward: 5.420460 ± 7.286136 in #290\n"
     ]
    },
    {
     "name": "stderr",
     "output_type": "stream",
     "text": [
      "Epoch #600:  76%|#######6  | 3301/4320 [01:28<00:26, 37.74it/s, alpha=0.001, env_step=2590981, len=4321, loss/actor=1.486, loss/alpha=-8.381, loss/critic1=0.344, loss/critic2=0.527, n/ep=0, n/st=1, rew=-531.88]"
     ]
    },
    {
     "name": "stdout",
     "output_type": "stream",
     "text": [
      "Epoch #603: test_reward: -57.311658 ± 54.727805, best_reward: 5.420460 ± 7.286136 in #290\n"
     ]
    },
    {
     "name": "stderr",
     "output_type": "stream",
     "text": [
      "Epoch #607: 4321it [01:53, 37.99it/s, alpha=0.001, env_step=2622240, len=4321, loss/actor=1.643, loss/alpha=-1.708, loss/critic1=0.617, loss/critic2=0.477, n/ep=0, n/st=1, rew=-54.49]                           \n"
     ]
    },
    {
     "name": "stdout",
     "output_type": "stream",
     "text": [
      "Epoch #607: test_reward: -57.289051 ± 40.410160, best_reward: 5.420460 ± 7.286136 in #290\n"
     ]
    },
    {
     "name": "stderr",
     "output_type": "stream",
     "text": [
      "Epoch #608: 4321it [01:54, 37.68it/s, alpha=0.001, env_step=2626560, len=4321, loss/actor=1.600, loss/alpha=-1.236, loss/critic1=0.420, loss/critic2=0.362, n/ep=0, n/st=1, rew=-89.64]                          \n"
     ]
    },
    {
     "name": "stdout",
     "output_type": "stream",
     "text": [
      "Epoch #612: test_reward: -155.032559 ± 163.428934, best_reward: 5.420460 ± 7.286136 in #290\n"
     ]
    },
    {
     "name": "stderr",
     "output_type": "stream",
     "text": [
      "Epoch #616: 4321it [01:54, 37.67it/s, alpha=0.001, env_step=2661120, len=4321, loss/actor=1.483, loss/alpha=3.089, loss/critic1=0.423, loss/critic2=0.437, n/ep=0, n/st=1, rew=-310.26]                           \n"
     ]
    },
    {
     "name": "stdout",
     "output_type": "stream",
     "text": [
      "Epoch #618: test_reward: -70.511283 ± 18.502649, best_reward: 5.420460 ± 7.286136 in #290\n"
     ]
    },
    {
     "name": "stderr",
     "output_type": "stream",
     "text": [
      "Epoch #619: 4321it [01:53, 38.15it/s, alpha=0.001, env_step=2674080, len=4321, loss/actor=1.488, loss/alpha=6.080, loss/critic1=0.600, loss/critic2=0.618, n/ep=0, n/st=1, rew=-69.53]                            \n"
     ]
    },
    {
     "name": "stdout",
     "output_type": "stream",
     "text": [
      "Epoch #624: test_reward: -52.331442 ± 2.650845, best_reward: 5.420460 ± 7.286136 in #290\n"
     ]
    },
    {
     "name": "stderr",
     "output_type": "stream",
     "text": [
      "Epoch #625:  76%|#######5  | 3264/4320 [01:24<00:25, 42.07it/s, alpha=0.001, env_step=2698944, len=4321, loss/actor=1.412, loss/alpha=0.193, loss/critic1=0.482, loss/critic2=0.563, n/ep=0, n/st=1, rew=-60.60] "
     ]
    }
   ],
   "source": [
    "exp = 20\n",
    "n_net = 3\n",
    "net = [256]*n_net\n",
    "gamma = 0.99\n",
    "actor_lr = 1E-3 # 1E-4\n",
    "critic_lr = 1E-3 # 1E-4\n",
    "alpha_lr = 1E-4\n",
    "nstep_per_episode = 4320 # 3024# 289 # 3025\n",
    "batch_size = 512 # 2048 # 256\n",
    "epoch = 100000\n",
    "\n",
    "# create policy\n",
    "policy = create_policy(net, gamma, actor_lr, critic_lr, alpha_lr)\n",
    "policy = load_policy(policy, 19)\n",
    "\n",
    "rew_avg, rew_std = train_policy(policy, exp, epoch, nstep_per_episode, batch_size)"
   ]
  },
  {
   "cell_type": "code",
   "execution_count": null,
   "id": "b83651ce-5dec-4766-bd10-5c9ff9045ae6",
   "metadata": {},
   "outputs": [],
   "source": []
  }
 ],
 "metadata": {
  "kernelspec": {
   "display_name": "Default (Python 3.8)",
   "language": "python",
   "name": "default"
  },
  "language_info": {
   "codemirror_mode": {
    "name": "ipython",
    "version": 3
   },
   "file_extension": ".py",
   "mimetype": "text/x-python",
   "name": "python",
   "nbconvert_exporter": "python",
   "pygments_lexer": "ipython3",
   "version": "3.8.11"
  }
 },
 "nbformat": 4,
 "nbformat_minor": 5
}
